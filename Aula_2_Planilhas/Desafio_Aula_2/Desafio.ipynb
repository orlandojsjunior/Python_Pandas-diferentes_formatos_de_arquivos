{
  "cells": [
    {
      "cell_type": "markdown",
      "metadata": {
        "colab_type": "text",
        "id": "view-in-github"
      },
      "source": [
        "<a href=\"https://colab.research.google.com/github/orlandojsjunior/Python_Pandas-diferentes_formatos_de_arquivos/blob/main/Aula_2_Planilhas/Desafio_Aula_2/Desafio.ipynb\" target=\"_parent\"><img src=\"https://colab.research.google.com/assets/colab-badge.svg\" alt=\"Open In Colab\"/></a>"
      ]
    },
    {
      "cell_type": "markdown",
      "metadata": {
        "id": "Fyl5FHVYdhFh"
      },
      "source": [
        "# **Desafio - Lendo dados de outro link**"
      ]
    },
    {
      "cell_type": "markdown",
      "metadata": {
        "id": "FM2KZencdhFi"
      },
      "source": [
        "Link da Planilha - https://docs.google.com/spreadsheets/d/1_MSU8aGPOOGD1lmtQBMCwGi-WPtFvdbtMO-6rLdAwyQ/edit?gid=1214654498#gid=1214654498"
      ]
    },
    {
      "cell_type": "code",
      "execution_count": 1,
      "metadata": {
        "id": "_P6bxms1dm_g"
      },
      "outputs": [],
      "source": [
        "import pandas as pd"
      ]
    },
    {
      "cell_type": "code",
      "execution_count": 2,
      "metadata": {
        "id": "6gc_jXSBdhFi"
      },
      "outputs": [],
      "source": [
        "sheet_id = '1_MSU8aGPOOGD1lmtQBMCwGi-WPtFvdbtMO-6rLdAwyQ'\n",
        "\n",
        "url = f'https://docs.google.com/spreadsheets/d/{sheet_id}/gviz/tq?tqx=out:csv&sheet'"
      ]
    },
    {
      "cell_type": "code",
      "execution_count": 3,
      "metadata": {
        "id": "TsYh6AzQdhFi"
      },
      "outputs": [],
      "source": [
        "dados_shhets = pd.read_csv(url)"
      ]
    },
    {
      "cell_type": "code",
      "execution_count": 4,
      "metadata": {
        "colab": {
          "base_uri": "https://localhost:8080/",
          "height": 620
        },
        "id": "3tu9XO5ndhFj",
        "outputId": "9be455d5-5133-4566-e8ad-b33b65dab578"
      },
      "outputs": [
        {
          "data": {
            "text/html": [
              "<div>\n",
              "<style scoped>\n",
              "    .dataframe tbody tr th:only-of-type {\n",
              "        vertical-align: middle;\n",
              "    }\n",
              "\n",
              "    .dataframe tbody tr th {\n",
              "        vertical-align: top;\n",
              "    }\n",
              "\n",
              "    .dataframe thead th {\n",
              "        text-align: right;\n",
              "    }\n",
              "</style>\n",
              "<table border=\"1\" class=\"dataframe\">\n",
              "  <thead>\n",
              "    <tr style=\"text-align: right;\">\n",
              "      <th></th>\n",
              "      <th>Country</th>\n",
              "      <th>country_code</th>\n",
              "      <th>Region</th>\n",
              "      <th>Indicator Name</th>\n",
              "      <th>1990</th>\n",
              "      <th>1991</th>\n",
              "      <th>1992</th>\n",
              "      <th>1993</th>\n",
              "      <th>1994</th>\n",
              "      <th>1995</th>\n",
              "      <th>...</th>\n",
              "      <th>2011</th>\n",
              "      <th>2012</th>\n",
              "      <th>2013</th>\n",
              "      <th>2014</th>\n",
              "      <th>2015</th>\n",
              "      <th>2016</th>\n",
              "      <th>2017</th>\n",
              "      <th>2018</th>\n",
              "      <th>2019</th>\n",
              "      <th>2019.1</th>\n",
              "    </tr>\n",
              "  </thead>\n",
              "  <tbody>\n",
              "    <tr>\n",
              "      <th>0</th>\n",
              "      <td>Aruba</td>\n",
              "      <td>ABW</td>\n",
              "      <td>Latin America &amp; Caribbean</td>\n",
              "      <td>CO2 emissions (metric tons per capita)</td>\n",
              "      <td>NaN</td>\n",
              "      <td>NaN</td>\n",
              "      <td>NaN</td>\n",
              "      <td>NaN</td>\n",
              "      <td>NaN</td>\n",
              "      <td>NaN</td>\n",
              "      <td>...</td>\n",
              "      <td>NaN</td>\n",
              "      <td>NaN</td>\n",
              "      <td>NaN</td>\n",
              "      <td>NaN</td>\n",
              "      <td>NaN</td>\n",
              "      <td>NaN</td>\n",
              "      <td>NaN</td>\n",
              "      <td>NaN</td>\n",
              "      <td>NaN</td>\n",
              "      <td>NaN</td>\n",
              "    </tr>\n",
              "    <tr>\n",
              "      <th>1</th>\n",
              "      <td>Afghanistan</td>\n",
              "      <td>AFG</td>\n",
              "      <td>South Asia</td>\n",
              "      <td>CO2 emissions (metric tons per capita)</td>\n",
              "      <td>191.745.115</td>\n",
              "      <td>167.681.579</td>\n",
              "      <td>95.957.742</td>\n",
              "      <td>8.472.111</td>\n",
              "      <td>75.545.827</td>\n",
              "      <td>68.467.956</td>\n",
              "      <td>...</td>\n",
              "      <td>29.650.624</td>\n",
              "      <td>259.295.334</td>\n",
              "      <td>18.562.366</td>\n",
              "      <td>146.235.617</td>\n",
              "      <td>172.896.741</td>\n",
              "      <td>149.789.334</td>\n",
              "      <td>131.694.556</td>\n",
              "      <td>1.632.953</td>\n",
              "      <td>159.824.372</td>\n",
              "      <td>159.824.372</td>\n",
              "    </tr>\n",
              "    <tr>\n",
              "      <th>2</th>\n",
              "      <td>Angola</td>\n",
              "      <td>AGO</td>\n",
              "      <td>Sub-Saharan Africa</td>\n",
              "      <td>CO2 emissions (metric tons per capita)</td>\n",
              "      <td>553.661.955</td>\n",
              "      <td>544.538.649</td>\n",
              "      <td>543.557.223</td>\n",
              "      <td>70.898.423</td>\n",
              "      <td>836.804.405</td>\n",
              "      <td>912.141.485</td>\n",
              "      <td>...</td>\n",
              "      <td>985.522.312</td>\n",
              "      <td>950.695.879</td>\n",
              "      <td>1.036.293.852</td>\n",
              "      <td>1.099.779.111</td>\n",
              "      <td>113.504.405</td>\n",
              "      <td>1.031.811.348</td>\n",
              "      <td>81.330.073</td>\n",
              "      <td>777.674.934</td>\n",
              "      <td>792.137.069</td>\n",
              "      <td>792.137.069</td>\n",
              "    </tr>\n",
              "    <tr>\n",
              "      <th>3</th>\n",
              "      <td>Albania</td>\n",
              "      <td>ALB</td>\n",
              "      <td>Europe &amp; Central Asia</td>\n",
              "      <td>CO2 emissions (metric tons per capita)</td>\n",
              "      <td>1.819.541.634</td>\n",
              "      <td>124.281.022</td>\n",
              "      <td>683.699.826</td>\n",
              "      <td>638.307.036</td>\n",
              "      <td>645.355.189</td>\n",
              "      <td>605.436.253</td>\n",
              "      <td>...</td>\n",
              "      <td>166.942.319</td>\n",
              "      <td>150.324.046</td>\n",
              "      <td>1.533.630.039</td>\n",
              "      <td>1.668.337.371</td>\n",
              "      <td>160.377.515</td>\n",
              "      <td>1.557.664.358</td>\n",
              "      <td>1.788.786.074</td>\n",
              "      <td>1.782.738.948</td>\n",
              "      <td>169.224.832</td>\n",
              "      <td>169.224.832</td>\n",
              "    </tr>\n",
              "    <tr>\n",
              "      <th>4</th>\n",
              "      <td>Andorra</td>\n",
              "      <td>AND</td>\n",
              "      <td>Europe &amp; Central Asia</td>\n",
              "      <td>CO2 emissions (metric tons per capita)</td>\n",
              "      <td>7.521.831.658</td>\n",
              "      <td>723.537.924</td>\n",
              "      <td>69.630.787</td>\n",
              "      <td>6.724.177.518</td>\n",
              "      <td>6.541.578.914</td>\n",
              "      <td>6.733.479.486</td>\n",
              "      <td>...</td>\n",
              "      <td>5.850.886.105</td>\n",
              "      <td>5.944.654.173</td>\n",
              "      <td>5.942.800.412</td>\n",
              "      <td>5.807.127.723</td>\n",
              "      <td>6.026.181.822</td>\n",
              "      <td>6.080.600.282</td>\n",
              "      <td>6.104.133.912</td>\n",
              "      <td>6.362.975.399</td>\n",
              "      <td>6.481.217.432</td>\n",
              "      <td>6.481.217.432</td>\n",
              "    </tr>\n",
              "  </tbody>\n",
              "</table>\n",
              "<p>5 rows × 35 columns</p>\n",
              "</div>"
            ],
            "text/plain": [
              "       Country country_code                     Region  \\\n",
              "0        Aruba          ABW  Latin America & Caribbean   \n",
              "1  Afghanistan          AFG                 South Asia   \n",
              "2       Angola          AGO         Sub-Saharan Africa   \n",
              "3      Albania          ALB      Europe & Central Asia   \n",
              "4      Andorra          AND      Europe & Central Asia   \n",
              "\n",
              "                           Indicator Name           1990         1991  \\\n",
              "0  CO2 emissions (metric tons per capita)            NaN          NaN   \n",
              "1  CO2 emissions (metric tons per capita)    191.745.115  167.681.579   \n",
              "2  CO2 emissions (metric tons per capita)    553.661.955  544.538.649   \n",
              "3  CO2 emissions (metric tons per capita)  1.819.541.634  124.281.022   \n",
              "4  CO2 emissions (metric tons per capita)  7.521.831.658  723.537.924   \n",
              "\n",
              "          1992           1993           1994           1995  ...  \\\n",
              "0          NaN            NaN            NaN            NaN  ...   \n",
              "1   95.957.742      8.472.111     75.545.827     68.467.956  ...   \n",
              "2  543.557.223     70.898.423    836.804.405    912.141.485  ...   \n",
              "3  683.699.826    638.307.036    645.355.189    605.436.253  ...   \n",
              "4   69.630.787  6.724.177.518  6.541.578.914  6.733.479.486  ...   \n",
              "\n",
              "            2011           2012           2013           2014           2015  \\\n",
              "0            NaN            NaN            NaN            NaN            NaN   \n",
              "1     29.650.624    259.295.334     18.562.366    146.235.617    172.896.741   \n",
              "2    985.522.312    950.695.879  1.036.293.852  1.099.779.111    113.504.405   \n",
              "3    166.942.319    150.324.046  1.533.630.039  1.668.337.371    160.377.515   \n",
              "4  5.850.886.105  5.944.654.173  5.942.800.412  5.807.127.723  6.026.181.822   \n",
              "\n",
              "            2016           2017           2018           2019         2019.1  \n",
              "0            NaN            NaN            NaN            NaN            NaN  \n",
              "1    149.789.334    131.694.556      1.632.953    159.824.372    159.824.372  \n",
              "2  1.031.811.348     81.330.073    777.674.934    792.137.069    792.137.069  \n",
              "3  1.557.664.358  1.788.786.074  1.782.738.948    169.224.832    169.224.832  \n",
              "4  6.080.600.282  6.104.133.912  6.362.975.399  6.481.217.432  6.481.217.432  \n",
              "\n",
              "[5 rows x 35 columns]"
            ]
          },
          "execution_count": 4,
          "metadata": {},
          "output_type": "execute_result"
        }
      ],
      "source": [
        "dados_shhets.head()"
      ]
    },
    {
      "cell_type": "code",
      "execution_count": 5,
      "metadata": {
        "id": "3JR6mNxpdz2S"
      },
      "outputs": [],
      "source": [
        "dados_shhets.to_csv('dados_co2.csv', index=False)"
      ]
    }
  ],
  "metadata": {
    "colab": {
      "include_colab_link": true,
      "provenance": []
    },
    "kernelspec": {
      "display_name": "Python 3",
      "language": "python",
      "name": "python3"
    },
    "language_info": {
      "codemirror_mode": {
        "name": "ipython",
        "version": 3
      },
      "file_extension": ".py",
      "mimetype": "text/x-python",
      "name": "python",
      "nbconvert_exporter": "python",
      "pygments_lexer": "ipython3",
      "version": "3.12.4"
    }
  },
  "nbformat": 4,
  "nbformat_minor": 0
}
