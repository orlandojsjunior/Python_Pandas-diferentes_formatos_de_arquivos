{
 "cells": [
  {
   "cell_type": "markdown",
   "metadata": {
    "id": "jBnOJYukAySu"
   },
   "source": [
    "# **Aula 4 - Lendo dados em HTML e XML**\n",
    "\n",
    "Dados: https://github.com/orlandojsjunior/Python_Pandas-diferentes_formatos_de_arquivos/blob/main/Aula_4_HTM_XML/filmes_wikipedia.html"
   ]
  },
  {
   "cell_type": "markdown",
   "metadata": {
    "id": "JH9aNDdynrcW"
   },
   "source": [
    "## **Lendo páginas web**"
   ]
  },
  {
   "cell_type": "code",
   "metadata": {
    "id": "Xc39_nDjE0yS",
    "ExecuteTime": {
     "end_time": "2024-09-27T01:34:48.837413Z",
     "start_time": "2024-09-27T01:34:47.268924Z"
    }
   },
   "source": [
    "import pandas as pd"
   ],
   "outputs": [],
   "execution_count": 1
  },
  {
   "cell_type": "code",
   "metadata": {
    "id": "VjlhKbpxE011",
    "ExecuteTime": {
     "end_time": "2024-09-27T01:34:49.723968Z",
     "start_time": "2024-09-27T01:34:49.255509Z"
    }
   },
   "source": [
    "dados_html = pd.read_html('filmes_wikipedia.html')"
   ],
   "outputs": [],
   "execution_count": 2
  },
  {
   "cell_type": "code",
   "metadata": {
    "colab": {
     "base_uri": "https://localhost:8080/"
    },
    "id": "F6A48HhdE073",
    "outputId": "32315582-b1cc-4c17-e3f8-dd1dde9356dc",
    "ExecuteTime": {
     "end_time": "2024-09-27T01:34:49.973195Z",
     "start_time": "2024-09-27T01:34:49.941637Z"
    }
   },
   "source": [
    "dados_html"
   ],
   "outputs": [
    {
     "data": {
      "text/plain": [
       "[                                                    0  \\\n",
       " 0                                                1998   \n",
       " 1                                                1999   \n",
       " 2                                                2000   \n",
       " 3                                                2001   \n",
       " 4                                                2002   \n",
       " 5                                                2003   \n",
       " 6                                                2004   \n",
       " 7                                                2005   \n",
       " 8                                                2005   \n",
       " 9                                                2006   \n",
       " 10                                               2006   \n",
       " 11                                               2007   \n",
       " 12                                               2008   \n",
       " 13  .mw-parser-output .hlist dl,.mw-parser-output ...   \n",
       " \n",
       "                                                     1  \n",
       " 0                                          100 Movies  \n",
       " 1                                           100 Stars  \n",
       " 2                                          100 Laughs  \n",
       " 3                                         100 Thrills  \n",
       " 4                                        100 Passions  \n",
       " 5                               100 Heroes & Villains  \n",
       " 6                                           100 Songs  \n",
       " 7                                    100 Movie Quotes  \n",
       " 8                                           25 Scores  \n",
       " 9                                          100 Cheers  \n",
       " 10                                        25 Musicals  \n",
       " 11                               100 Movies (Updated)  \n",
       " 12                                    AFI's 10 Top 10  \n",
       " 13  .mw-parser-output .hlist dl,.mw-parser-output ...  ,\n",
       "                             Film  Release year              Director  \\\n",
       " 0                   Citizen Kane          1941          Orson Welles   \n",
       " 1                     Casablanca          1942        Michael Curtiz   \n",
       " 2                  The Godfather          1972  Francis Ford Coppola   \n",
       " 3             Gone with the Wind          1939        Victor Fleming   \n",
       " 4             Lawrence of Arabia          1962            David Lean   \n",
       " ..                           ...           ...                   ...   \n",
       " 95                 The Searchers          1956             John Ford   \n",
       " 96              Bringing Up Baby          1938          Howard Hawks   \n",
       " 97                    Unforgiven          1992        Clint Eastwood   \n",
       " 98  Guess Who's Coming to Dinner          1967        Stanley Kramer   \n",
       " 99           Yankee Doodle Dandy          1942        Michael Curtiz   \n",
       " \n",
       "                       Production companies  Rank  \n",
       " 0                       RKO Radio Pictures     1  \n",
       " 1                    Warner Bros. Pictures     2  \n",
       " 2   Paramount Pictures, Alfran Productions     3  \n",
       " 3          Selznick International Pictures     4  \n",
       " 4                         Horizon Pictures     5  \n",
       " ..                                     ...   ...  \n",
       " 95                  C. V. Whitney Pictures    96  \n",
       " 96                      RKO Radio Pictures    97  \n",
       " 97                     The Malpaso Company    98  \n",
       " 98                       Columbia Pictures    99  \n",
       " 99                   Warner Bros. Pictures   100  \n",
       " \n",
       " [100 rows x 5 columns],\n",
       "           hidevteAFI's 100 Years...100 Movies (1998)  \\\n",
       " 0  Citizen Kane (1941) Casablanca (1942) The Godf...   \n",
       " \n",
       "         hidevteAFI's 100 Years...100 Movies (1998).1  \n",
       " 0  Citizen Kane (1941) Casablanca (1942) The Godf...  ]"
      ]
     },
     "execution_count": 3,
     "metadata": {},
     "output_type": "execute_result"
    }
   ],
   "execution_count": 3
  },
  {
   "cell_type": "code",
   "metadata": {
    "colab": {
     "base_uri": "https://localhost:8080/"
    },
    "id": "6ZDTv-44amY6",
    "outputId": "968d2f63-dbc6-412a-ac11-7bd77dfddc4c",
    "ExecuteTime": {
     "end_time": "2024-09-27T01:34:50.176670Z",
     "start_time": "2024-09-27T01:34:50.168002Z"
    }
   },
   "source": [
    "type(dados_html)"
   ],
   "outputs": [
    {
     "data": {
      "text/plain": [
       "list"
      ]
     },
     "execution_count": 4,
     "metadata": {},
     "output_type": "execute_result"
    }
   ],
   "execution_count": 4
  },
  {
   "cell_type": "code",
   "metadata": {
    "colab": {
     "base_uri": "https://localhost:8080/"
    },
    "id": "ILX7nsiQKAPK",
    "outputId": "f999086d-8a64-4e45-b54a-6f8c5fa887a3",
    "ExecuteTime": {
     "end_time": "2024-09-27T01:34:50.346315Z",
     "start_time": "2024-09-27T01:34:50.336063Z"
    }
   },
   "source": [
    "len(dados_html)"
   ],
   "outputs": [
    {
     "data": {
      "text/plain": [
       "3"
      ]
     },
     "execution_count": 5,
     "metadata": {},
     "output_type": "execute_result"
    }
   ],
   "execution_count": 5
  },
  {
   "cell_type": "code",
   "metadata": {
    "id": "UusKJOTtgdMP",
    "ExecuteTime": {
     "end_time": "2024-09-27T01:34:50.462857Z",
     "start_time": "2024-09-27T01:34:50.456832Z"
    }
   },
   "source": [
    "top_filmes = dados_html[1]"
   ],
   "outputs": [],
   "execution_count": 6
  },
  {
   "cell_type": "code",
   "metadata": {
    "colab": {
     "base_uri": "https://localhost:8080/",
     "height": 519
    },
    "id": "G8CKMK1ZgpkK",
    "outputId": "7904d9ff-6ea6-4720-9551-d9603d085d2b",
    "ExecuteTime": {
     "end_time": "2024-09-27T01:34:50.529832Z",
     "start_time": "2024-09-27T01:34:50.499473Z"
    }
   },
   "source": [
    "top_filmes"
   ],
   "outputs": [
    {
     "data": {
      "text/plain": [
       "                            Film  Release year              Director  \\\n",
       "0                   Citizen Kane          1941          Orson Welles   \n",
       "1                     Casablanca          1942        Michael Curtiz   \n",
       "2                  The Godfather          1972  Francis Ford Coppola   \n",
       "3             Gone with the Wind          1939        Victor Fleming   \n",
       "4             Lawrence of Arabia          1962            David Lean   \n",
       "..                           ...           ...                   ...   \n",
       "95                 The Searchers          1956             John Ford   \n",
       "96              Bringing Up Baby          1938          Howard Hawks   \n",
       "97                    Unforgiven          1992        Clint Eastwood   \n",
       "98  Guess Who's Coming to Dinner          1967        Stanley Kramer   \n",
       "99           Yankee Doodle Dandy          1942        Michael Curtiz   \n",
       "\n",
       "                      Production companies  Rank  \n",
       "0                       RKO Radio Pictures     1  \n",
       "1                    Warner Bros. Pictures     2  \n",
       "2   Paramount Pictures, Alfran Productions     3  \n",
       "3          Selznick International Pictures     4  \n",
       "4                         Horizon Pictures     5  \n",
       "..                                     ...   ...  \n",
       "95                  C. V. Whitney Pictures    96  \n",
       "96                      RKO Radio Pictures    97  \n",
       "97                     The Malpaso Company    98  \n",
       "98                       Columbia Pictures    99  \n",
       "99                   Warner Bros. Pictures   100  \n",
       "\n",
       "[100 rows x 5 columns]"
      ],
      "text/html": [
       "<div>\n",
       "<style scoped>\n",
       "    .dataframe tbody tr th:only-of-type {\n",
       "        vertical-align: middle;\n",
       "    }\n",
       "\n",
       "    .dataframe tbody tr th {\n",
       "        vertical-align: top;\n",
       "    }\n",
       "\n",
       "    .dataframe thead th {\n",
       "        text-align: right;\n",
       "    }\n",
       "</style>\n",
       "<table border=\"1\" class=\"dataframe\">\n",
       "  <thead>\n",
       "    <tr style=\"text-align: right;\">\n",
       "      <th></th>\n",
       "      <th>Film</th>\n",
       "      <th>Release year</th>\n",
       "      <th>Director</th>\n",
       "      <th>Production companies</th>\n",
       "      <th>Rank</th>\n",
       "    </tr>\n",
       "  </thead>\n",
       "  <tbody>\n",
       "    <tr>\n",
       "      <th>0</th>\n",
       "      <td>Citizen Kane</td>\n",
       "      <td>1941</td>\n",
       "      <td>Orson Welles</td>\n",
       "      <td>RKO Radio Pictures</td>\n",
       "      <td>1</td>\n",
       "    </tr>\n",
       "    <tr>\n",
       "      <th>1</th>\n",
       "      <td>Casablanca</td>\n",
       "      <td>1942</td>\n",
       "      <td>Michael Curtiz</td>\n",
       "      <td>Warner Bros. Pictures</td>\n",
       "      <td>2</td>\n",
       "    </tr>\n",
       "    <tr>\n",
       "      <th>2</th>\n",
       "      <td>The Godfather</td>\n",
       "      <td>1972</td>\n",
       "      <td>Francis Ford Coppola</td>\n",
       "      <td>Paramount Pictures, Alfran Productions</td>\n",
       "      <td>3</td>\n",
       "    </tr>\n",
       "    <tr>\n",
       "      <th>3</th>\n",
       "      <td>Gone with the Wind</td>\n",
       "      <td>1939</td>\n",
       "      <td>Victor Fleming</td>\n",
       "      <td>Selznick International Pictures</td>\n",
       "      <td>4</td>\n",
       "    </tr>\n",
       "    <tr>\n",
       "      <th>4</th>\n",
       "      <td>Lawrence of Arabia</td>\n",
       "      <td>1962</td>\n",
       "      <td>David Lean</td>\n",
       "      <td>Horizon Pictures</td>\n",
       "      <td>5</td>\n",
       "    </tr>\n",
       "    <tr>\n",
       "      <th>...</th>\n",
       "      <td>...</td>\n",
       "      <td>...</td>\n",
       "      <td>...</td>\n",
       "      <td>...</td>\n",
       "      <td>...</td>\n",
       "    </tr>\n",
       "    <tr>\n",
       "      <th>95</th>\n",
       "      <td>The Searchers</td>\n",
       "      <td>1956</td>\n",
       "      <td>John Ford</td>\n",
       "      <td>C. V. Whitney Pictures</td>\n",
       "      <td>96</td>\n",
       "    </tr>\n",
       "    <tr>\n",
       "      <th>96</th>\n",
       "      <td>Bringing Up Baby</td>\n",
       "      <td>1938</td>\n",
       "      <td>Howard Hawks</td>\n",
       "      <td>RKO Radio Pictures</td>\n",
       "      <td>97</td>\n",
       "    </tr>\n",
       "    <tr>\n",
       "      <th>97</th>\n",
       "      <td>Unforgiven</td>\n",
       "      <td>1992</td>\n",
       "      <td>Clint Eastwood</td>\n",
       "      <td>The Malpaso Company</td>\n",
       "      <td>98</td>\n",
       "    </tr>\n",
       "    <tr>\n",
       "      <th>98</th>\n",
       "      <td>Guess Who's Coming to Dinner</td>\n",
       "      <td>1967</td>\n",
       "      <td>Stanley Kramer</td>\n",
       "      <td>Columbia Pictures</td>\n",
       "      <td>99</td>\n",
       "    </tr>\n",
       "    <tr>\n",
       "      <th>99</th>\n",
       "      <td>Yankee Doodle Dandy</td>\n",
       "      <td>1942</td>\n",
       "      <td>Michael Curtiz</td>\n",
       "      <td>Warner Bros. Pictures</td>\n",
       "      <td>100</td>\n",
       "    </tr>\n",
       "  </tbody>\n",
       "</table>\n",
       "<p>100 rows × 5 columns</p>\n",
       "</div>"
      ]
     },
     "execution_count": 7,
     "metadata": {},
     "output_type": "execute_result"
    }
   ],
   "execution_count": 7
  },
  {
   "cell_type": "markdown",
   "metadata": {
    "id": "vFXwQcZsEToA"
   },
   "source": [
    "###**Escrevendo arquivos HTML**"
   ]
  },
  {
   "cell_type": "code",
   "metadata": {
    "id": "3s_y8TgvXDid",
    "ExecuteTime": {
     "end_time": "2024-09-27T01:27:46.642301Z",
     "start_time": "2024-09-27T01:27:46.582582Z"
    }
   },
   "source": [
    "top_filmes.to_html('top_filmes.html')"
   ],
   "outputs": [],
   "execution_count": 8
  },
  {
   "cell_type": "code",
   "metadata": {
    "colab": {
     "base_uri": "https://localhost:8080/"
    },
    "id": "meIW1BeoXDkv",
    "outputId": "2fbefe92-f6e3-4de1-cc9e-329fc2079c48",
    "ExecuteTime": {
     "end_time": "2024-09-27T01:27:46.925182Z",
     "start_time": "2024-09-27T01:27:46.832779Z"
    }
   },
   "source": [
    "pd.read_html('top_filmes.html')"
   ],
   "outputs": [
    {
     "data": {
      "text/plain": [
       "[    Unnamed: 0                          Film  Release year  \\\n",
       " 0            0                  Citizen Kane          1941   \n",
       " 1            1                    Casablanca          1942   \n",
       " 2            2                 The Godfather          1972   \n",
       " 3            3            Gone with the Wind          1939   \n",
       " 4            4            Lawrence of Arabia          1962   \n",
       " ..         ...                           ...           ...   \n",
       " 95          95                 The Searchers          1956   \n",
       " 96          96              Bringing Up Baby          1938   \n",
       " 97          97                    Unforgiven          1992   \n",
       " 98          98  Guess Who's Coming to Dinner          1967   \n",
       " 99          99           Yankee Doodle Dandy          1942   \n",
       " \n",
       "                 Director                    Production companies  Rank  \n",
       " 0           Orson Welles                      RKO Radio Pictures     1  \n",
       " 1         Michael Curtiz                   Warner Bros. Pictures     2  \n",
       " 2   Francis Ford Coppola  Paramount Pictures, Alfran Productions     3  \n",
       " 3         Victor Fleming         Selznick International Pictures     4  \n",
       " 4             David Lean                        Horizon Pictures     5  \n",
       " ..                   ...                                     ...   ...  \n",
       " 95             John Ford                  C. V. Whitney Pictures    96  \n",
       " 96          Howard Hawks                      RKO Radio Pictures    97  \n",
       " 97        Clint Eastwood                     The Malpaso Company    98  \n",
       " 98        Stanley Kramer                       Columbia Pictures    99  \n",
       " 99        Michael Curtiz                   Warner Bros. Pictures   100  \n",
       " \n",
       " [100 rows x 6 columns]]"
      ]
     },
     "execution_count": 9,
     "metadata": {},
     "output_type": "execute_result"
    }
   ],
   "execution_count": 9
  },
  {
   "cell_type": "code",
   "metadata": {
    "id": "5Km4c4daguhT",
    "ExecuteTime": {
     "end_time": "2024-09-27T01:27:47.221233Z",
     "start_time": "2024-09-27T01:27:47.197577Z"
    }
   },
   "source": [
    "top_filmes.to_csv('top_filmes_1998.csv', index=False)"
   ],
   "outputs": [],
   "execution_count": 10
  },
  {
   "cell_type": "code",
   "metadata": {
    "colab": {
     "base_uri": "https://localhost:8080/",
     "height": 319
    },
    "id": "rRBolv1Mg45R",
    "outputId": "c42a7f9a-96d1-4b9d-b3f8-019517a1153a",
    "ExecuteTime": {
     "end_time": "2024-09-27T01:27:47.410314Z",
     "start_time": "2024-09-27T01:27:47.378126Z"
    }
   },
   "source": [
    "dados = pd.read_csv('top_filmes_1998.csv')\n",
    "dados.head()"
   ],
   "outputs": [
    {
     "data": {
      "text/plain": [
       "                 Film  Release year              Director  \\\n",
       "0        Citizen Kane          1941          Orson Welles   \n",
       "1          Casablanca          1942        Michael Curtiz   \n",
       "2       The Godfather          1972  Francis Ford Coppola   \n",
       "3  Gone with the Wind          1939        Victor Fleming   \n",
       "4  Lawrence of Arabia          1962            David Lean   \n",
       "\n",
       "                     Production companies  Rank  \n",
       "0                      RKO Radio Pictures     1  \n",
       "1                   Warner Bros. Pictures     2  \n",
       "2  Paramount Pictures, Alfran Productions     3  \n",
       "3         Selznick International Pictures     4  \n",
       "4                        Horizon Pictures     5  "
      ],
      "text/html": [
       "<div>\n",
       "<style scoped>\n",
       "    .dataframe tbody tr th:only-of-type {\n",
       "        vertical-align: middle;\n",
       "    }\n",
       "\n",
       "    .dataframe tbody tr th {\n",
       "        vertical-align: top;\n",
       "    }\n",
       "\n",
       "    .dataframe thead th {\n",
       "        text-align: right;\n",
       "    }\n",
       "</style>\n",
       "<table border=\"1\" class=\"dataframe\">\n",
       "  <thead>\n",
       "    <tr style=\"text-align: right;\">\n",
       "      <th></th>\n",
       "      <th>Film</th>\n",
       "      <th>Release year</th>\n",
       "      <th>Director</th>\n",
       "      <th>Production companies</th>\n",
       "      <th>Rank</th>\n",
       "    </tr>\n",
       "  </thead>\n",
       "  <tbody>\n",
       "    <tr>\n",
       "      <th>0</th>\n",
       "      <td>Citizen Kane</td>\n",
       "      <td>1941</td>\n",
       "      <td>Orson Welles</td>\n",
       "      <td>RKO Radio Pictures</td>\n",
       "      <td>1</td>\n",
       "    </tr>\n",
       "    <tr>\n",
       "      <th>1</th>\n",
       "      <td>Casablanca</td>\n",
       "      <td>1942</td>\n",
       "      <td>Michael Curtiz</td>\n",
       "      <td>Warner Bros. Pictures</td>\n",
       "      <td>2</td>\n",
       "    </tr>\n",
       "    <tr>\n",
       "      <th>2</th>\n",
       "      <td>The Godfather</td>\n",
       "      <td>1972</td>\n",
       "      <td>Francis Ford Coppola</td>\n",
       "      <td>Paramount Pictures, Alfran Productions</td>\n",
       "      <td>3</td>\n",
       "    </tr>\n",
       "    <tr>\n",
       "      <th>3</th>\n",
       "      <td>Gone with the Wind</td>\n",
       "      <td>1939</td>\n",
       "      <td>Victor Fleming</td>\n",
       "      <td>Selznick International Pictures</td>\n",
       "      <td>4</td>\n",
       "    </tr>\n",
       "    <tr>\n",
       "      <th>4</th>\n",
       "      <td>Lawrence of Arabia</td>\n",
       "      <td>1962</td>\n",
       "      <td>David Lean</td>\n",
       "      <td>Horizon Pictures</td>\n",
       "      <td>5</td>\n",
       "    </tr>\n",
       "  </tbody>\n",
       "</table>\n",
       "</div>"
      ]
     },
     "execution_count": 11,
     "metadata": {},
     "output_type": "execute_result"
    }
   ],
   "execution_count": 11
  },
  {
   "cell_type": "markdown",
   "metadata": {
    "id": "iig7pyP1cwIy"
   },
   "source": [
    "###**Lendo/escrevendo arquivos XML**\n",
    "Dados: https://github.com/alura-cursos/Pandas/blob/main/imdb_top_1000.xml\n"
   ]
  },
  {
   "cell_type": "code",
   "metadata": {
    "id": "lbPol0dcATS7",
    "ExecuteTime": {
     "end_time": "2024-09-27T01:27:47.699984Z",
     "start_time": "2024-09-27T01:27:47.681555Z"
    }
   },
   "source": [
    "import pandas as pd"
   ],
   "outputs": [],
   "execution_count": 12
  },
  {
   "cell_type": "code",
   "metadata": {
    "id": "2XrTSisjATYO",
    "ExecuteTime": {
     "end_time": "2024-09-27T01:27:47.969761Z",
     "start_time": "2024-09-27T01:27:47.936057Z"
    }
   },
   "source": [
    "dados_imdb = pd.read_xml('/content/imdb_top_1000.xml')"
   ],
   "outputs": [
    {
     "ename": "XMLSyntaxError",
     "evalue": "Start tag expected, '<' not found, line 1, column 1 (<string>, line 1)",
     "output_type": "error",
     "traceback": [
      "Traceback \u001B[1;36m(most recent call last)\u001B[0m:\n",
      "\u001B[0m  File \u001B[0;32m~\\anaconda3\\Lib\\site-packages\\IPython\\core\\interactiveshell.py:3553\u001B[0m in \u001B[0;35mrun_code\u001B[0m\n    exec(code_obj, self.user_global_ns, self.user_ns)\u001B[0m\n",
      "\u001B[0m  Cell \u001B[0;32mIn[13], line 1\u001B[0m\n    dados_imdb = pd.read_xml('/content/imdb_top_1000.xml')\u001B[0m\n",
      "\u001B[0m  File \u001B[0;32m~\\anaconda3\\Lib\\site-packages\\pandas\\util\\_decorators.py:331\u001B[0m in \u001B[0;35mwrapper\u001B[0m\n    return func(*args, **kwargs)\u001B[0m\n",
      "\u001B[0m  File \u001B[0;32m~\\anaconda3\\Lib\\site-packages\\pandas\\io\\xml.py:1088\u001B[0m in \u001B[0;35mread_xml\u001B[0m\n    return _parse(\u001B[0m\n",
      "\u001B[0m  File \u001B[0;32m~\\anaconda3\\Lib\\site-packages\\pandas\\io\\xml.py:827\u001B[0m in \u001B[0;35m_parse\u001B[0m\n    data_dicts = p.parse_data()\u001B[0m\n",
      "\u001B[0m  File \u001B[0;32m~\\anaconda3\\Lib\\site-packages\\pandas\\io\\xml.py:551\u001B[0m in \u001B[0;35mparse_data\u001B[0m\n    self.xml_doc = self._parse_doc(self.path_or_buffer)\u001B[0m\n",
      "\u001B[0m  File \u001B[0;32m~\\anaconda3\\Lib\\site-packages\\pandas\\io\\xml.py:636\u001B[0m in \u001B[0;35m_parse_doc\u001B[0m\n    doc = fromstring(\u001B[0m\n",
      "\u001B[0m  File \u001B[0;32msrc/lxml/etree.pyx:3257\u001B[0m in \u001B[0;35mlxml.etree.fromstring\u001B[0m\n",
      "\u001B[0m  File \u001B[0;32msrc/lxml/parser.pxi:1916\u001B[0m in \u001B[0;35mlxml.etree._parseMemoryDocument\u001B[0m\n",
      "\u001B[0m  File \u001B[0;32msrc/lxml/parser.pxi:1803\u001B[0m in \u001B[0;35mlxml.etree._parseDoc\u001B[0m\n",
      "\u001B[0m  File \u001B[0;32msrc/lxml/parser.pxi:1144\u001B[0m in \u001B[0;35mlxml.etree._BaseParser._parseDoc\u001B[0m\n",
      "\u001B[0m  File \u001B[0;32msrc/lxml/parser.pxi:618\u001B[0m in \u001B[0;35mlxml.etree._ParserContext._handleParseResultDoc\u001B[0m\n",
      "\u001B[0m  File \u001B[0;32msrc/lxml/parser.pxi:728\u001B[0m in \u001B[0;35mlxml.etree._handleParseResult\u001B[0m\n",
      "\u001B[1;36m  File \u001B[1;32msrc/lxml/parser.pxi:657\u001B[1;36m in \u001B[1;35mlxml.etree._raiseParseError\u001B[1;36m\n",
      "\u001B[1;36m  File \u001B[1;32m<string>:1\u001B[1;36m\u001B[0m\n\u001B[1;31mXMLSyntaxError\u001B[0m\u001B[1;31m:\u001B[0m Start tag expected, '<' not found, line 1, column 1\n"
     ]
    }
   ],
   "execution_count": 13
  },
  {
   "cell_type": "code",
   "execution_count": null,
   "metadata": {
    "colab": {
     "base_uri": "https://localhost:8080/",
     "height": 485
    },
    "id": "jUeyuT3LAxQ9",
    "outputId": "3576b12d-0d53-4f29-9177-2ab03fe66efc"
   },
   "outputs": [
    {
     "data": {
      "text/html": [
       "\n",
       "  <div id=\"df-0585b6a7-1e0d-4985-b9d5-4c987b49e3dd\">\n",
       "    <div class=\"colab-df-container\">\n",
       "      <div>\n",
       "<style scoped>\n",
       "    .dataframe tbody tr th:only-of-type {\n",
       "        vertical-align: middle;\n",
       "    }\n",
       "\n",
       "    .dataframe tbody tr th {\n",
       "        vertical-align: top;\n",
       "    }\n",
       "\n",
       "    .dataframe thead th {\n",
       "        text-align: right;\n",
       "    }\n",
       "</style>\n",
       "<table border=\"1\" class=\"dataframe\">\n",
       "  <thead>\n",
       "    <tr style=\"text-align: right;\">\n",
       "      <th></th>\n",
       "      <th>index</th>\n",
       "      <th>Poster_Link</th>\n",
       "      <th>Series_Title</th>\n",
       "      <th>Released_Year</th>\n",
       "      <th>Certificate</th>\n",
       "      <th>Runtime</th>\n",
       "      <th>Genre</th>\n",
       "      <th>IMDB_Rating</th>\n",
       "      <th>Overview</th>\n",
       "      <th>Meta_score</th>\n",
       "      <th>Director</th>\n",
       "      <th>Star1</th>\n",
       "      <th>Star2</th>\n",
       "      <th>Star3</th>\n",
       "      <th>Star4</th>\n",
       "      <th>No_of_Votes</th>\n",
       "      <th>Gross</th>\n",
       "    </tr>\n",
       "  </thead>\n",
       "  <tbody>\n",
       "    <tr>\n",
       "      <th>0</th>\n",
       "      <td>0</td>\n",
       "      <td>https://m.media-amazon.com/images/M/MV5BMDFkYT...</td>\n",
       "      <td>The Shawshank Redemption</td>\n",
       "      <td>1994</td>\n",
       "      <td>A</td>\n",
       "      <td>142 min</td>\n",
       "      <td>Drama</td>\n",
       "      <td>9.3</td>\n",
       "      <td>Two imprisoned men bond over a number of years...</td>\n",
       "      <td>80.0</td>\n",
       "      <td>Frank Darabont</td>\n",
       "      <td>Tim Robbins</td>\n",
       "      <td>Morgan Freeman</td>\n",
       "      <td>Bob Gunton</td>\n",
       "      <td>William Sadler</td>\n",
       "      <td>2343110</td>\n",
       "      <td>28,341,469</td>\n",
       "    </tr>\n",
       "    <tr>\n",
       "      <th>1</th>\n",
       "      <td>1</td>\n",
       "      <td>https://m.media-amazon.com/images/M/MV5BM2MyNj...</td>\n",
       "      <td>The Godfather</td>\n",
       "      <td>1972</td>\n",
       "      <td>A</td>\n",
       "      <td>175 min</td>\n",
       "      <td>Crime, Drama</td>\n",
       "      <td>9.2</td>\n",
       "      <td>An organized crime dynasty's aging patriarch t...</td>\n",
       "      <td>100.0</td>\n",
       "      <td>Francis Ford Coppola</td>\n",
       "      <td>Marlon Brando</td>\n",
       "      <td>Al Pacino</td>\n",
       "      <td>James Caan</td>\n",
       "      <td>Diane Keaton</td>\n",
       "      <td>1620367</td>\n",
       "      <td>134,966,411</td>\n",
       "    </tr>\n",
       "    <tr>\n",
       "      <th>2</th>\n",
       "      <td>2</td>\n",
       "      <td>https://m.media-amazon.com/images/M/MV5BMTMxNT...</td>\n",
       "      <td>The Dark Knight</td>\n",
       "      <td>2008</td>\n",
       "      <td>UA</td>\n",
       "      <td>152 min</td>\n",
       "      <td>Action, Crime, Drama</td>\n",
       "      <td>9.0</td>\n",
       "      <td>When the menace known as the Joker wreaks havo...</td>\n",
       "      <td>84.0</td>\n",
       "      <td>Christopher Nolan</td>\n",
       "      <td>Christian Bale</td>\n",
       "      <td>Heath Ledger</td>\n",
       "      <td>Aaron Eckhart</td>\n",
       "      <td>Michael Caine</td>\n",
       "      <td>2303232</td>\n",
       "      <td>534,858,444</td>\n",
       "    </tr>\n",
       "  </tbody>\n",
       "</table>\n",
       "</div>\n",
       "      <button class=\"colab-df-convert\" onclick=\"convertToInteractive('df-0585b6a7-1e0d-4985-b9d5-4c987b49e3dd')\"\n",
       "              title=\"Convert this dataframe to an interactive table.\"\n",
       "              style=\"display:none;\">\n",
       "        \n",
       "  <svg xmlns=\"http://www.w3.org/2000/svg\" height=\"24px\"viewBox=\"0 0 24 24\"\n",
       "       width=\"24px\">\n",
       "    <path d=\"M0 0h24v24H0V0z\" fill=\"none\"/>\n",
       "    <path d=\"M18.56 5.44l.94 2.06.94-2.06 2.06-.94-2.06-.94-.94-2.06-.94 2.06-2.06.94zm-11 1L8.5 8.5l.94-2.06 2.06-.94-2.06-.94L8.5 2.5l-.94 2.06-2.06.94zm10 10l.94 2.06.94-2.06 2.06-.94-2.06-.94-.94-2.06-.94 2.06-2.06.94z\"/><path d=\"M17.41 7.96l-1.37-1.37c-.4-.4-.92-.59-1.43-.59-.52 0-1.04.2-1.43.59L10.3 9.45l-7.72 7.72c-.78.78-.78 2.05 0 2.83L4 21.41c.39.39.9.59 1.41.59.51 0 1.02-.2 1.41-.59l7.78-7.78 2.81-2.81c.8-.78.8-2.07 0-2.86zM5.41 20L4 18.59l7.72-7.72 1.47 1.35L5.41 20z\"/>\n",
       "  </svg>\n",
       "      </button>\n",
       "      \n",
       "  <style>\n",
       "    .colab-df-container {\n",
       "      display:flex;\n",
       "      flex-wrap:wrap;\n",
       "      gap: 12px;\n",
       "    }\n",
       "\n",
       "    .colab-df-convert {\n",
       "      background-color: #E8F0FE;\n",
       "      border: none;\n",
       "      border-radius: 50%;\n",
       "      cursor: pointer;\n",
       "      display: none;\n",
       "      fill: #1967D2;\n",
       "      height: 32px;\n",
       "      padding: 0 0 0 0;\n",
       "      width: 32px;\n",
       "    }\n",
       "\n",
       "    .colab-df-convert:hover {\n",
       "      background-color: #E2EBFA;\n",
       "      box-shadow: 0px 1px 2px rgba(60, 64, 67, 0.3), 0px 1px 3px 1px rgba(60, 64, 67, 0.15);\n",
       "      fill: #174EA6;\n",
       "    }\n",
       "\n",
       "    [theme=dark] .colab-df-convert {\n",
       "      background-color: #3B4455;\n",
       "      fill: #D2E3FC;\n",
       "    }\n",
       "\n",
       "    [theme=dark] .colab-df-convert:hover {\n",
       "      background-color: #434B5C;\n",
       "      box-shadow: 0px 1px 3px 1px rgba(0, 0, 0, 0.15);\n",
       "      filter: drop-shadow(0px 1px 2px rgba(0, 0, 0, 0.3));\n",
       "      fill: #FFFFFF;\n",
       "    }\n",
       "  </style>\n",
       "\n",
       "      <script>\n",
       "        const buttonEl =\n",
       "          document.querySelector('#df-0585b6a7-1e0d-4985-b9d5-4c987b49e3dd button.colab-df-convert');\n",
       "        buttonEl.style.display =\n",
       "          google.colab.kernel.accessAllowed ? 'block' : 'none';\n",
       "\n",
       "        async function convertToInteractive(key) {\n",
       "          const element = document.querySelector('#df-0585b6a7-1e0d-4985-b9d5-4c987b49e3dd');\n",
       "          const dataTable =\n",
       "            await google.colab.kernel.invokeFunction('convertToInteractive',\n",
       "                                                     [key], {});\n",
       "          if (!dataTable) return;\n",
       "\n",
       "          const docLinkHtml = 'Like what you see? Visit the ' +\n",
       "            '<a target=\"_blank\" href=https://colab.research.google.com/notebooks/data_table.ipynb>data table notebook</a>'\n",
       "            + ' to learn more about interactive tables.';\n",
       "          element.innerHTML = '';\n",
       "          dataTable['output_type'] = 'display_data';\n",
       "          await google.colab.output.renderOutput(dataTable, element);\n",
       "          const docLink = document.createElement('div');\n",
       "          docLink.innerHTML = docLinkHtml;\n",
       "          element.appendChild(docLink);\n",
       "        }\n",
       "      </script>\n",
       "    </div>\n",
       "  </div>\n",
       "  "
      ],
      "text/plain": [
       "   index                                        Poster_Link  \\\n",
       "0      0  https://m.media-amazon.com/images/M/MV5BMDFkYT...   \n",
       "1      1  https://m.media-amazon.com/images/M/MV5BM2MyNj...   \n",
       "2      2  https://m.media-amazon.com/images/M/MV5BMTMxNT...   \n",
       "\n",
       "               Series_Title Released_Year Certificate  Runtime  \\\n",
       "0  The Shawshank Redemption          1994           A  142 min   \n",
       "1             The Godfather          1972           A  175 min   \n",
       "2           The Dark Knight          2008          UA  152 min   \n",
       "\n",
       "                  Genre  IMDB_Rating  \\\n",
       "0                 Drama          9.3   \n",
       "1          Crime, Drama          9.2   \n",
       "2  Action, Crime, Drama          9.0   \n",
       "\n",
       "                                            Overview  Meta_score  \\\n",
       "0  Two imprisoned men bond over a number of years...        80.0   \n",
       "1  An organized crime dynasty's aging patriarch t...       100.0   \n",
       "2  When the menace known as the Joker wreaks havo...        84.0   \n",
       "\n",
       "               Director           Star1           Star2          Star3  \\\n",
       "0        Frank Darabont     Tim Robbins  Morgan Freeman     Bob Gunton   \n",
       "1  Francis Ford Coppola   Marlon Brando       Al Pacino     James Caan   \n",
       "2     Christopher Nolan  Christian Bale    Heath Ledger  Aaron Eckhart   \n",
       "\n",
       "            Star4  No_of_Votes        Gross  \n",
       "0  William Sadler      2343110   28,341,469  \n",
       "1    Diane Keaton      1620367  134,966,411  \n",
       "2   Michael Caine      2303232  534,858,444  "
      ]
     },
     "execution_count": 50,
     "metadata": {},
     "output_type": "execute_result"
    }
   ],
   "source": [
    "dados_imdb.head(3)"
   ]
  },
  {
   "cell_type": "code",
   "execution_count": null,
   "metadata": {
    "id": "zbQL1Vg2lOgr"
   },
   "outputs": [],
   "source": [
    "dados_imdb.to_xml('filmes_imdb.xml')"
   ]
  }
 ],
 "metadata": {
  "colab": {
   "provenance": [],
   "toc_visible": true
  },
  "kernelspec": {
   "display_name": "Python 3 (ipykernel)",
   "name": "python3",
   "language": "python"
  },
  "language_info": {
   "codemirror_mode": {
    "name": "ipython",
    "version": 3
   },
   "file_extension": ".py",
   "mimetype": "text/x-python",
   "name": "python",
   "nbconvert_exporter": "python",
   "pygments_lexer": "ipython3",
   "version": "3.12.4"
  }
 },
 "nbformat": 4,
 "nbformat_minor": 0
}
