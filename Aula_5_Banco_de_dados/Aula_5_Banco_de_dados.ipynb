{
  "cells": [
    {
      "cell_type": "markdown",
      "metadata": {
        "id": "VfDuxSL8vN1w"
      },
      "source": [
        "# **Aula 5 - Trabalhando com banco de dados**\n",
        "\n",
        "Dados: https://github.com/alura-cursos/Pandas/blob/main/clientes_banco.csv"
      ]
    },
    {
      "cell_type": "markdown",
      "metadata": {
        "id": "bBBgT7YZEICf"
      },
      "source": [
        "## **Criando um banco de dados local**"
      ]
    },
    {
      "cell_type": "code",
      "execution_count": 27,
      "metadata": {},
      "outputs": [],
      "source": [
        "import pandas as pd"
      ]
    },
    {
      "cell_type": "code",
      "execution_count": 28,
      "metadata": {},
      "outputs": [
        {
          "name": "stdout",
          "output_type": "stream",
          "text": [
            "Requirement already satisfied: sqlalchemy in c:\\users\\orlan\\appdata\\local\\programs\\python\\python312\\lib\\site-packages (2.0.35)\n",
            "Requirement already satisfied: typing-extensions>=4.6.0 in c:\\users\\orlan\\appdata\\local\\programs\\python\\python312\\lib\\site-packages (from sqlalchemy) (4.12.2)\n",
            "Requirement already satisfied: greenlet!=0.4.17 in c:\\users\\orlan\\appdata\\local\\programs\\python\\python312\\lib\\site-packages (from sqlalchemy) (3.1.1)\n",
            "Note: you may need to restart the kernel to use updated packages.\n"
          ]
        }
      ],
      "source": [
        "pip install sqlalchemy\n"
      ]
    },
    {
      "cell_type": "code",
      "execution_count": 29,
      "metadata": {
        "id": "cHdsOx1LMMqR"
      },
      "outputs": [],
      "source": [
        "import sqlalchemy"
      ]
    },
    {
      "cell_type": "markdown",
      "metadata": {
        "id": "-BaGyV6vk-Ez"
      },
      "source": [
        "Após realizar a importação da biblioteca SQLAlchemy, verifique qual é sua versão:"
      ]
    },
    {
      "cell_type": "code",
      "execution_count": 30,
      "metadata": {
        "colab": {
          "base_uri": "https://localhost:8080/",
          "height": 36
        },
        "id": "_TNClL5xkigv",
        "outputId": "affa8ad0-fea4-403e-8d9d-d705fc09d727"
      },
      "outputs": [
        {
          "data": {
            "text/plain": [
              "'2.0.35'"
            ]
          },
          "execution_count": 30,
          "metadata": {},
          "output_type": "execute_result"
        }
      ],
      "source": [
        "sqlalchemy.__version__"
      ]
    },
    {
      "cell_type": "markdown",
      "metadata": {
        "id": "RAKVtd4Slmr0"
      },
      "source": [
        "Se a versão da SQLAlchemy for 2.0.16 ou uma versão mais atual, você deve atualizá-la para uma **versão inferior a 2.0** com o código abaixo:"
      ]
    },
    {
      "cell_type": "code",
      "execution_count": 31,
      "metadata": {
        "colab": {
          "base_uri": "https://localhost:8080/",
          "height": 350
        },
        "id": "n4sTxQLPjlSb",
        "outputId": "afcb455d-a14a-46ae-cd79-a427510215dd"
      },
      "outputs": [
        {
          "name": "stdout",
          "output_type": "stream",
          "text": [
            "Note: you may need to restart the kernel to use updated packages.\n"
          ]
        },
        {
          "name": "stderr",
          "output_type": "stream",
          "text": [
            "O sistema n�o pode encontrar o arquivo especificado.\n"
          ]
        }
      ],
      "source": [
        "pip install --upgrade 'sqlalchemy<2.0'"
      ]
    },
    {
      "cell_type": "markdown",
      "metadata": {
        "id": "UT9ao2wBl3k_"
      },
      "source": [
        "Após a instalação bem-sucedida, é importante **reiniciar o ambiente de execução do Google Colab** para garantir que as alterações sejam aplicadas.\n",
        "\n",
        "\n",
        "\n",
        "Após essa etapa, você pode continuar seguindo os códigos apresentados nos vídeos desta aula sem problemas!"
      ]
    },
    {
      "cell_type": "code",
      "execution_count": 32,
      "metadata": {
        "id": "XutYYZzfA36M"
      },
      "outputs": [],
      "source": [
        "from sqlalchemy import create_engine, MetaData, Table, inspect"
      ]
    },
    {
      "cell_type": "code",
      "execution_count": 33,
      "metadata": {
        "id": "KNFaW2DOA4NF"
      },
      "outputs": [],
      "source": [
        "engine = create_engine('sqlite:///:memory:')"
      ]
    },
    {
      "cell_type": "markdown",
      "metadata": {
        "id": "RAeI2dtG6Dpy"
      },
      "source": [
        "## **Escrevendo em um banco de dados**"
      ]
    },
    {
      "cell_type": "code",
      "execution_count": 34,
      "metadata": {
        "id": "wzAiDflqbBfi"
      },
      "outputs": [],
      "source": [
        "import pandas as pd"
      ]
    },
    {
      "cell_type": "code",
      "execution_count": 35,
      "metadata": {
        "id": "vx_KTviWbBfj"
      },
      "outputs": [],
      "source": [
        "url = 'https://raw.githubusercontent.com/orlandojsjunior/Python_Pandas-diferentes_formatos_de_arquivos/refs/heads/main/Aula_5_Banco_de_dados/clientes_banco.csv'"
      ]
    },
    {
      "cell_type": "code",
      "execution_count": 36,
      "metadata": {
        "id": "nvtBpM6bbBfj"
      },
      "outputs": [],
      "source": [
        "dados = pd.read_csv(url)"
      ]
    },
    {
      "cell_type": "code",
      "execution_count": 37,
      "metadata": {
        "colab": {
          "base_uri": "https://localhost:8080/",
          "height": 312
        },
        "id": "qm4sgPTybBfj",
        "outputId": "b3f9da5d-aea1-4a98-d4a1-d4d508699cf5"
      },
      "outputs": [
        {
          "data": {
            "text/html": [
              "<div>\n",
              "<style scoped>\n",
              "    .dataframe tbody tr th:only-of-type {\n",
              "        vertical-align: middle;\n",
              "    }\n",
              "\n",
              "    .dataframe tbody tr th {\n",
              "        vertical-align: top;\n",
              "    }\n",
              "\n",
              "    .dataframe thead th {\n",
              "        text-align: right;\n",
              "    }\n",
              "</style>\n",
              "<table border=\"1\" class=\"dataframe\">\n",
              "  <thead>\n",
              "    <tr style=\"text-align: right;\">\n",
              "      <th></th>\n",
              "      <th>ID_Cliente</th>\n",
              "      <th>Idade</th>\n",
              "      <th>Grau_escolaridade</th>\n",
              "      <th>Estado_civil</th>\n",
              "      <th>Tamanho_familia</th>\n",
              "      <th>Categoria_de_renda</th>\n",
              "      <th>Ocupacao</th>\n",
              "      <th>Anos_empregado</th>\n",
              "      <th>Rendimento_anual</th>\n",
              "      <th>Tem_carro</th>\n",
              "      <th>Moradia</th>\n",
              "    </tr>\n",
              "  </thead>\n",
              "  <tbody>\n",
              "    <tr>\n",
              "      <th>0</th>\n",
              "      <td>5008804</td>\n",
              "      <td>32</td>\n",
              "      <td>Ensino superior</td>\n",
              "      <td>União-estável</td>\n",
              "      <td>2</td>\n",
              "      <td>Empregado</td>\n",
              "      <td>Outro</td>\n",
              "      <td>12</td>\n",
              "      <td>427500.0</td>\n",
              "      <td>1</td>\n",
              "      <td>Apartamento alugado</td>\n",
              "    </tr>\n",
              "    <tr>\n",
              "      <th>1</th>\n",
              "      <td>5008805</td>\n",
              "      <td>32</td>\n",
              "      <td>Ensino superior</td>\n",
              "      <td>União-estável</td>\n",
              "      <td>2</td>\n",
              "      <td>Empregado</td>\n",
              "      <td>Outro</td>\n",
              "      <td>12</td>\n",
              "      <td>427500.0</td>\n",
              "      <td>1</td>\n",
              "      <td>Apartamento alugado</td>\n",
              "    </tr>\n",
              "    <tr>\n",
              "      <th>2</th>\n",
              "      <td>5008806</td>\n",
              "      <td>58</td>\n",
              "      <td>Ensino médio</td>\n",
              "      <td>Casado</td>\n",
              "      <td>2</td>\n",
              "      <td>Empregado</td>\n",
              "      <td>Segurança</td>\n",
              "      <td>3</td>\n",
              "      <td>112500.0</td>\n",
              "      <td>1</td>\n",
              "      <td>Casa/apartamento próprio</td>\n",
              "    </tr>\n",
              "    <tr>\n",
              "      <th>3</th>\n",
              "      <td>5008808</td>\n",
              "      <td>52</td>\n",
              "      <td>Ensino médio</td>\n",
              "      <td>Solteiro</td>\n",
              "      <td>1</td>\n",
              "      <td>Associado comercial</td>\n",
              "      <td>Vendas</td>\n",
              "      <td>8</td>\n",
              "      <td>270000.0</td>\n",
              "      <td>0</td>\n",
              "      <td>Casa/apartamento próprio</td>\n",
              "    </tr>\n",
              "    <tr>\n",
              "      <th>4</th>\n",
              "      <td>5008809</td>\n",
              "      <td>52</td>\n",
              "      <td>Ensino médio</td>\n",
              "      <td>Solteiro</td>\n",
              "      <td>1</td>\n",
              "      <td>Associado comercial</td>\n",
              "      <td>Vendas</td>\n",
              "      <td>8</td>\n",
              "      <td>270000.0</td>\n",
              "      <td>0</td>\n",
              "      <td>Casa/apartamento próprio</td>\n",
              "    </tr>\n",
              "  </tbody>\n",
              "</table>\n",
              "</div>"
            ],
            "text/plain": [
              "   ID_Cliente  Idade Grau_escolaridade   Estado_civil  Tamanho_familia  \\\n",
              "0     5008804     32   Ensino superior  União-estável                2   \n",
              "1     5008805     32   Ensino superior  União-estável                2   \n",
              "2     5008806     58      Ensino médio         Casado                2   \n",
              "3     5008808     52      Ensino médio       Solteiro                1   \n",
              "4     5008809     52      Ensino médio       Solteiro                1   \n",
              "\n",
              "    Categoria_de_renda   Ocupacao  Anos_empregado  Rendimento_anual  \\\n",
              "0            Empregado      Outro              12          427500.0   \n",
              "1            Empregado      Outro              12          427500.0   \n",
              "2            Empregado  Segurança               3          112500.0   \n",
              "3  Associado comercial     Vendas               8          270000.0   \n",
              "4  Associado comercial     Vendas               8          270000.0   \n",
              "\n",
              "   Tem_carro                   Moradia  \n",
              "0          1       Apartamento alugado  \n",
              "1          1       Apartamento alugado  \n",
              "2          1  Casa/apartamento próprio  \n",
              "3          0  Casa/apartamento próprio  \n",
              "4          0  Casa/apartamento próprio  "
            ]
          },
          "execution_count": 37,
          "metadata": {},
          "output_type": "execute_result"
        }
      ],
      "source": [
        "dados.head()"
      ]
    },
    {
      "cell_type": "code",
      "execution_count": 38,
      "metadata": {
        "colab": {
          "base_uri": "https://localhost:8080/"
        },
        "id": "ukoxfjp5BSpI",
        "outputId": "5b3c2491-b693-4574-f259-2e1fee6b903c"
      },
      "outputs": [
        {
          "data": {
            "text/plain": [
              "438463"
            ]
          },
          "execution_count": 38,
          "metadata": {},
          "output_type": "execute_result"
        }
      ],
      "source": [
        "dados.to_sql('clientes', engine, index=False)"
      ]
    },
    {
      "cell_type": "code",
      "execution_count": 39,
      "metadata": {
        "id": "zjW1Yk6CBpvz"
      },
      "outputs": [],
      "source": [
        "inspector = inspect(engine)"
      ]
    },
    {
      "cell_type": "code",
      "execution_count": 40,
      "metadata": {
        "colab": {
          "base_uri": "https://localhost:8080/"
        },
        "id": "LY70XAU4B0Ha",
        "outputId": "a1a4d024-da90-46c4-967a-734dea2e65fd"
      },
      "outputs": [
        {
          "name": "stdout",
          "output_type": "stream",
          "text": [
            "['clientes']\n"
          ]
        }
      ],
      "source": [
        "print(inspector.get_table_names())"
      ]
    },
    {
      "cell_type": "markdown",
      "metadata": {
        "id": "RQcn3pljaY0U"
      },
      "source": [
        "## **Lendo uma consulta SQL**"
      ]
    },
    {
      "cell_type": "code",
      "execution_count": 41,
      "metadata": {
        "id": "SZQQKXmZB685"
      },
      "outputs": [],
      "source": [
        "query = 'SELECT * FROM clientes WHERE Categoria_de_renda = \"Empregado\"'"
      ]
    },
    {
      "cell_type": "code",
      "execution_count": 42,
      "metadata": {
        "id": "2YIytoYXCSei"
      },
      "outputs": [],
      "source": [
        "empregados = pd.read_sql(query, engine)"
      ]
    },
    {
      "cell_type": "code",
      "execution_count": 43,
      "metadata": {
        "colab": {
          "base_uri": "https://localhost:8080/",
          "height": 617
        },
        "id": "Y4Py8cULCVqO",
        "outputId": "cb06d5a0-a115-4140-ad75-8477eb218331"
      },
      "outputs": [
        {
          "data": {
            "text/html": [
              "<div>\n",
              "<style scoped>\n",
              "    .dataframe tbody tr th:only-of-type {\n",
              "        vertical-align: middle;\n",
              "    }\n",
              "\n",
              "    .dataframe tbody tr th {\n",
              "        vertical-align: top;\n",
              "    }\n",
              "\n",
              "    .dataframe thead th {\n",
              "        text-align: right;\n",
              "    }\n",
              "</style>\n",
              "<table border=\"1\" class=\"dataframe\">\n",
              "  <thead>\n",
              "    <tr style=\"text-align: right;\">\n",
              "      <th></th>\n",
              "      <th>ID_Cliente</th>\n",
              "      <th>Idade</th>\n",
              "      <th>Grau_escolaridade</th>\n",
              "      <th>Estado_civil</th>\n",
              "      <th>Tamanho_familia</th>\n",
              "      <th>Categoria_de_renda</th>\n",
              "      <th>Ocupacao</th>\n",
              "      <th>Anos_empregado</th>\n",
              "      <th>Rendimento_anual</th>\n",
              "      <th>Tem_carro</th>\n",
              "      <th>Moradia</th>\n",
              "    </tr>\n",
              "  </thead>\n",
              "  <tbody>\n",
              "    <tr>\n",
              "      <th>0</th>\n",
              "      <td>5008804</td>\n",
              "      <td>32</td>\n",
              "      <td>Ensino superior</td>\n",
              "      <td>União-estável</td>\n",
              "      <td>2</td>\n",
              "      <td>Empregado</td>\n",
              "      <td>Outro</td>\n",
              "      <td>12</td>\n",
              "      <td>427500.0</td>\n",
              "      <td>1</td>\n",
              "      <td>Apartamento alugado</td>\n",
              "    </tr>\n",
              "    <tr>\n",
              "      <th>1</th>\n",
              "      <td>5008805</td>\n",
              "      <td>32</td>\n",
              "      <td>Ensino superior</td>\n",
              "      <td>União-estável</td>\n",
              "      <td>2</td>\n",
              "      <td>Empregado</td>\n",
              "      <td>Outro</td>\n",
              "      <td>12</td>\n",
              "      <td>427500.0</td>\n",
              "      <td>1</td>\n",
              "      <td>Apartamento alugado</td>\n",
              "    </tr>\n",
              "    <tr>\n",
              "      <th>2</th>\n",
              "      <td>5008806</td>\n",
              "      <td>58</td>\n",
              "      <td>Ensino médio</td>\n",
              "      <td>Casado</td>\n",
              "      <td>2</td>\n",
              "      <td>Empregado</td>\n",
              "      <td>Segurança</td>\n",
              "      <td>3</td>\n",
              "      <td>112500.0</td>\n",
              "      <td>1</td>\n",
              "      <td>Casa/apartamento próprio</td>\n",
              "    </tr>\n",
              "    <tr>\n",
              "      <th>3</th>\n",
              "      <td>5008815</td>\n",
              "      <td>46</td>\n",
              "      <td>Ensino superior</td>\n",
              "      <td>Casado</td>\n",
              "      <td>2</td>\n",
              "      <td>Empregado</td>\n",
              "      <td>Contabilidade</td>\n",
              "      <td>2</td>\n",
              "      <td>270000.0</td>\n",
              "      <td>1</td>\n",
              "      <td>Casa/apartamento próprio</td>\n",
              "    </tr>\n",
              "    <tr>\n",
              "      <th>4</th>\n",
              "      <td>5112956</td>\n",
              "      <td>46</td>\n",
              "      <td>Ensino superior</td>\n",
              "      <td>Casado</td>\n",
              "      <td>2</td>\n",
              "      <td>Empregado</td>\n",
              "      <td>Contabilidade</td>\n",
              "      <td>2</td>\n",
              "      <td>270000.0</td>\n",
              "      <td>1</td>\n",
              "      <td>Casa/apartamento próprio</td>\n",
              "    </tr>\n",
              "    <tr>\n",
              "      <th>...</th>\n",
              "      <td>...</td>\n",
              "      <td>...</td>\n",
              "      <td>...</td>\n",
              "      <td>...</td>\n",
              "      <td>...</td>\n",
              "      <td>...</td>\n",
              "      <td>...</td>\n",
              "      <td>...</td>\n",
              "      <td>...</td>\n",
              "      <td>...</td>\n",
              "      <td>...</td>\n",
              "    </tr>\n",
              "    <tr>\n",
              "      <th>226054</th>\n",
              "      <td>6837905</td>\n",
              "      <td>43</td>\n",
              "      <td>Ensino médio</td>\n",
              "      <td>Casado</td>\n",
              "      <td>3</td>\n",
              "      <td>Empregado</td>\n",
              "      <td>Outro</td>\n",
              "      <td>7</td>\n",
              "      <td>355050.0</td>\n",
              "      <td>1</td>\n",
              "      <td>Casa/apartamento próprio</td>\n",
              "    </tr>\n",
              "    <tr>\n",
              "      <th>226055</th>\n",
              "      <td>6837906</td>\n",
              "      <td>43</td>\n",
              "      <td>Ensino médio</td>\n",
              "      <td>Casado</td>\n",
              "      <td>3</td>\n",
              "      <td>Empregado</td>\n",
              "      <td>Outro</td>\n",
              "      <td>7</td>\n",
              "      <td>355050.0</td>\n",
              "      <td>1</td>\n",
              "      <td>Casa/apartamento próprio</td>\n",
              "    </tr>\n",
              "    <tr>\n",
              "      <th>226056</th>\n",
              "      <td>6839936</td>\n",
              "      <td>34</td>\n",
              "      <td>Ensino médio</td>\n",
              "      <td>Casado</td>\n",
              "      <td>3</td>\n",
              "      <td>Empregado</td>\n",
              "      <td>Construção Civil</td>\n",
              "      <td>5</td>\n",
              "      <td>135000.0</td>\n",
              "      <td>1</td>\n",
              "      <td>Casa/apartamento próprio</td>\n",
              "    </tr>\n",
              "    <tr>\n",
              "      <th>226057</th>\n",
              "      <td>6840222</td>\n",
              "      <td>43</td>\n",
              "      <td>Ensino médio</td>\n",
              "      <td>Solteiro</td>\n",
              "      <td>1</td>\n",
              "      <td>Empregado</td>\n",
              "      <td>Construção Civil</td>\n",
              "      <td>8</td>\n",
              "      <td>103500.0</td>\n",
              "      <td>0</td>\n",
              "      <td>Casa/apartamento próprio</td>\n",
              "    </tr>\n",
              "    <tr>\n",
              "      <th>226058</th>\n",
              "      <td>6842885</td>\n",
              "      <td>51</td>\n",
              "      <td>Ensino médio</td>\n",
              "      <td>Casado</td>\n",
              "      <td>2</td>\n",
              "      <td>Empregado</td>\n",
              "      <td>Vendas</td>\n",
              "      <td>3</td>\n",
              "      <td>121500.0</td>\n",
              "      <td>0</td>\n",
              "      <td>Casa/apartamento próprio</td>\n",
              "    </tr>\n",
              "  </tbody>\n",
              "</table>\n",
              "<p>226059 rows × 11 columns</p>\n",
              "</div>"
            ],
            "text/plain": [
              "        ID_Cliente  Idade Grau_escolaridade   Estado_civil  Tamanho_familia  \\\n",
              "0          5008804     32   Ensino superior  União-estável                2   \n",
              "1          5008805     32   Ensino superior  União-estável                2   \n",
              "2          5008806     58      Ensino médio         Casado                2   \n",
              "3          5008815     46   Ensino superior         Casado                2   \n",
              "4          5112956     46   Ensino superior         Casado                2   \n",
              "...            ...    ...               ...            ...              ...   \n",
              "226054     6837905     43      Ensino médio         Casado                3   \n",
              "226055     6837906     43      Ensino médio         Casado                3   \n",
              "226056     6839936     34      Ensino médio         Casado                3   \n",
              "226057     6840222     43      Ensino médio       Solteiro                1   \n",
              "226058     6842885     51      Ensino médio         Casado                2   \n",
              "\n",
              "       Categoria_de_renda          Ocupacao  Anos_empregado  Rendimento_anual  \\\n",
              "0               Empregado             Outro              12          427500.0   \n",
              "1               Empregado             Outro              12          427500.0   \n",
              "2               Empregado         Segurança               3          112500.0   \n",
              "3               Empregado     Contabilidade               2          270000.0   \n",
              "4               Empregado     Contabilidade               2          270000.0   \n",
              "...                   ...               ...             ...               ...   \n",
              "226054          Empregado             Outro               7          355050.0   \n",
              "226055          Empregado             Outro               7          355050.0   \n",
              "226056          Empregado  Construção Civil               5          135000.0   \n",
              "226057          Empregado  Construção Civil               8          103500.0   \n",
              "226058          Empregado            Vendas               3          121500.0   \n",
              "\n",
              "        Tem_carro                   Moradia  \n",
              "0               1       Apartamento alugado  \n",
              "1               1       Apartamento alugado  \n",
              "2               1  Casa/apartamento próprio  \n",
              "3               1  Casa/apartamento próprio  \n",
              "4               1  Casa/apartamento próprio  \n",
              "...           ...                       ...  \n",
              "226054          1  Casa/apartamento próprio  \n",
              "226055          1  Casa/apartamento próprio  \n",
              "226056          1  Casa/apartamento próprio  \n",
              "226057          0  Casa/apartamento próprio  \n",
              "226058          0  Casa/apartamento próprio  \n",
              "\n",
              "[226059 rows x 11 columns]"
            ]
          },
          "execution_count": 43,
          "metadata": {},
          "output_type": "execute_result"
        }
      ],
      "source": [
        "empregados"
      ]
    },
    {
      "cell_type": "code",
      "execution_count": 44,
      "metadata": {
        "colab": {
          "base_uri": "https://localhost:8080/"
        },
        "id": "X5VvRg3GDCfl",
        "outputId": "2ea1b40f-4ead-4092-9a94-9ffdaf3e9a4d"
      },
      "outputs": [
        {
          "data": {
            "text/plain": [
              "226059"
            ]
          },
          "execution_count": 44,
          "metadata": {},
          "output_type": "execute_result"
        }
      ],
      "source": [
        "empregados.to_sql('empregados', con=engine, index=False)"
      ]
    },
    {
      "cell_type": "code",
      "execution_count": 45,
      "metadata": {
        "colab": {
          "base_uri": "https://localhost:8080/",
          "height": 617
        },
        "id": "2bnIC1KxvkKN",
        "outputId": "648e1dd5-f820-43bc-da12-cbed68ae4b2a"
      },
      "outputs": [
        {
          "data": {
            "text/html": [
              "<div>\n",
              "<style scoped>\n",
              "    .dataframe tbody tr th:only-of-type {\n",
              "        vertical-align: middle;\n",
              "    }\n",
              "\n",
              "    .dataframe tbody tr th {\n",
              "        vertical-align: top;\n",
              "    }\n",
              "\n",
              "    .dataframe thead th {\n",
              "        text-align: right;\n",
              "    }\n",
              "</style>\n",
              "<table border=\"1\" class=\"dataframe\">\n",
              "  <thead>\n",
              "    <tr style=\"text-align: right;\">\n",
              "      <th></th>\n",
              "      <th>ID_Cliente</th>\n",
              "      <th>Idade</th>\n",
              "      <th>Grau_escolaridade</th>\n",
              "      <th>Estado_civil</th>\n",
              "      <th>Tamanho_familia</th>\n",
              "      <th>Categoria_de_renda</th>\n",
              "      <th>Ocupacao</th>\n",
              "      <th>Anos_empregado</th>\n",
              "      <th>Rendimento_anual</th>\n",
              "      <th>Tem_carro</th>\n",
              "      <th>Moradia</th>\n",
              "    </tr>\n",
              "  </thead>\n",
              "  <tbody>\n",
              "    <tr>\n",
              "      <th>0</th>\n",
              "      <td>5008804</td>\n",
              "      <td>32</td>\n",
              "      <td>Ensino superior</td>\n",
              "      <td>União-estável</td>\n",
              "      <td>2</td>\n",
              "      <td>Empregado</td>\n",
              "      <td>Outro</td>\n",
              "      <td>12</td>\n",
              "      <td>427500.0</td>\n",
              "      <td>1</td>\n",
              "      <td>Apartamento alugado</td>\n",
              "    </tr>\n",
              "    <tr>\n",
              "      <th>1</th>\n",
              "      <td>5008805</td>\n",
              "      <td>32</td>\n",
              "      <td>Ensino superior</td>\n",
              "      <td>União-estável</td>\n",
              "      <td>2</td>\n",
              "      <td>Empregado</td>\n",
              "      <td>Outro</td>\n",
              "      <td>12</td>\n",
              "      <td>427500.0</td>\n",
              "      <td>1</td>\n",
              "      <td>Apartamento alugado</td>\n",
              "    </tr>\n",
              "    <tr>\n",
              "      <th>2</th>\n",
              "      <td>5008806</td>\n",
              "      <td>58</td>\n",
              "      <td>Ensino médio</td>\n",
              "      <td>Casado</td>\n",
              "      <td>2</td>\n",
              "      <td>Empregado</td>\n",
              "      <td>Segurança</td>\n",
              "      <td>3</td>\n",
              "      <td>112500.0</td>\n",
              "      <td>1</td>\n",
              "      <td>Casa/apartamento próprio</td>\n",
              "    </tr>\n",
              "    <tr>\n",
              "      <th>3</th>\n",
              "      <td>5008815</td>\n",
              "      <td>46</td>\n",
              "      <td>Ensino superior</td>\n",
              "      <td>Casado</td>\n",
              "      <td>2</td>\n",
              "      <td>Empregado</td>\n",
              "      <td>Contabilidade</td>\n",
              "      <td>2</td>\n",
              "      <td>270000.0</td>\n",
              "      <td>1</td>\n",
              "      <td>Casa/apartamento próprio</td>\n",
              "    </tr>\n",
              "    <tr>\n",
              "      <th>4</th>\n",
              "      <td>5112956</td>\n",
              "      <td>46</td>\n",
              "      <td>Ensino superior</td>\n",
              "      <td>Casado</td>\n",
              "      <td>2</td>\n",
              "      <td>Empregado</td>\n",
              "      <td>Contabilidade</td>\n",
              "      <td>2</td>\n",
              "      <td>270000.0</td>\n",
              "      <td>1</td>\n",
              "      <td>Casa/apartamento próprio</td>\n",
              "    </tr>\n",
              "    <tr>\n",
              "      <th>...</th>\n",
              "      <td>...</td>\n",
              "      <td>...</td>\n",
              "      <td>...</td>\n",
              "      <td>...</td>\n",
              "      <td>...</td>\n",
              "      <td>...</td>\n",
              "      <td>...</td>\n",
              "      <td>...</td>\n",
              "      <td>...</td>\n",
              "      <td>...</td>\n",
              "      <td>...</td>\n",
              "    </tr>\n",
              "    <tr>\n",
              "      <th>226054</th>\n",
              "      <td>6837905</td>\n",
              "      <td>43</td>\n",
              "      <td>Ensino médio</td>\n",
              "      <td>Casado</td>\n",
              "      <td>3</td>\n",
              "      <td>Empregado</td>\n",
              "      <td>Outro</td>\n",
              "      <td>7</td>\n",
              "      <td>355050.0</td>\n",
              "      <td>1</td>\n",
              "      <td>Casa/apartamento próprio</td>\n",
              "    </tr>\n",
              "    <tr>\n",
              "      <th>226055</th>\n",
              "      <td>6837906</td>\n",
              "      <td>43</td>\n",
              "      <td>Ensino médio</td>\n",
              "      <td>Casado</td>\n",
              "      <td>3</td>\n",
              "      <td>Empregado</td>\n",
              "      <td>Outro</td>\n",
              "      <td>7</td>\n",
              "      <td>355050.0</td>\n",
              "      <td>1</td>\n",
              "      <td>Casa/apartamento próprio</td>\n",
              "    </tr>\n",
              "    <tr>\n",
              "      <th>226056</th>\n",
              "      <td>6839936</td>\n",
              "      <td>34</td>\n",
              "      <td>Ensino médio</td>\n",
              "      <td>Casado</td>\n",
              "      <td>3</td>\n",
              "      <td>Empregado</td>\n",
              "      <td>Construção Civil</td>\n",
              "      <td>5</td>\n",
              "      <td>135000.0</td>\n",
              "      <td>1</td>\n",
              "      <td>Casa/apartamento próprio</td>\n",
              "    </tr>\n",
              "    <tr>\n",
              "      <th>226057</th>\n",
              "      <td>6840222</td>\n",
              "      <td>43</td>\n",
              "      <td>Ensino médio</td>\n",
              "      <td>Solteiro</td>\n",
              "      <td>1</td>\n",
              "      <td>Empregado</td>\n",
              "      <td>Construção Civil</td>\n",
              "      <td>8</td>\n",
              "      <td>103500.0</td>\n",
              "      <td>0</td>\n",
              "      <td>Casa/apartamento próprio</td>\n",
              "    </tr>\n",
              "    <tr>\n",
              "      <th>226058</th>\n",
              "      <td>6842885</td>\n",
              "      <td>51</td>\n",
              "      <td>Ensino médio</td>\n",
              "      <td>Casado</td>\n",
              "      <td>2</td>\n",
              "      <td>Empregado</td>\n",
              "      <td>Vendas</td>\n",
              "      <td>3</td>\n",
              "      <td>121500.0</td>\n",
              "      <td>0</td>\n",
              "      <td>Casa/apartamento próprio</td>\n",
              "    </tr>\n",
              "  </tbody>\n",
              "</table>\n",
              "<p>226059 rows × 11 columns</p>\n",
              "</div>"
            ],
            "text/plain": [
              "        ID_Cliente  Idade Grau_escolaridade   Estado_civil  Tamanho_familia  \\\n",
              "0          5008804     32   Ensino superior  União-estável                2   \n",
              "1          5008805     32   Ensino superior  União-estável                2   \n",
              "2          5008806     58      Ensino médio         Casado                2   \n",
              "3          5008815     46   Ensino superior         Casado                2   \n",
              "4          5112956     46   Ensino superior         Casado                2   \n",
              "...            ...    ...               ...            ...              ...   \n",
              "226054     6837905     43      Ensino médio         Casado                3   \n",
              "226055     6837906     43      Ensino médio         Casado                3   \n",
              "226056     6839936     34      Ensino médio         Casado                3   \n",
              "226057     6840222     43      Ensino médio       Solteiro                1   \n",
              "226058     6842885     51      Ensino médio         Casado                2   \n",
              "\n",
              "       Categoria_de_renda          Ocupacao  Anos_empregado  Rendimento_anual  \\\n",
              "0               Empregado             Outro              12          427500.0   \n",
              "1               Empregado             Outro              12          427500.0   \n",
              "2               Empregado         Segurança               3          112500.0   \n",
              "3               Empregado     Contabilidade               2          270000.0   \n",
              "4               Empregado     Contabilidade               2          270000.0   \n",
              "...                   ...               ...             ...               ...   \n",
              "226054          Empregado             Outro               7          355050.0   \n",
              "226055          Empregado             Outro               7          355050.0   \n",
              "226056          Empregado  Construção Civil               5          135000.0   \n",
              "226057          Empregado  Construção Civil               8          103500.0   \n",
              "226058          Empregado            Vendas               3          121500.0   \n",
              "\n",
              "        Tem_carro                   Moradia  \n",
              "0               1       Apartamento alugado  \n",
              "1               1       Apartamento alugado  \n",
              "2               1  Casa/apartamento próprio  \n",
              "3               1  Casa/apartamento próprio  \n",
              "4               1  Casa/apartamento próprio  \n",
              "...           ...                       ...  \n",
              "226054          1  Casa/apartamento próprio  \n",
              "226055          1  Casa/apartamento próprio  \n",
              "226056          1  Casa/apartamento próprio  \n",
              "226057          0  Casa/apartamento próprio  \n",
              "226058          0  Casa/apartamento próprio  \n",
              "\n",
              "[226059 rows x 11 columns]"
            ]
          },
          "execution_count": 45,
          "metadata": {},
          "output_type": "execute_result"
        }
      ],
      "source": [
        "pd.read_sql_table('empregados', engine)"
      ]
    },
    {
      "cell_type": "code",
      "execution_count": 46,
      "metadata": {
        "colab": {
          "base_uri": "https://localhost:8080/",
          "height": 423
        },
        "id": "lmUQ5-0lDX3-",
        "outputId": "397a6133-b3ed-410b-d768-75931095d8bb"
      },
      "outputs": [
        {
          "data": {
            "text/html": [
              "<div>\n",
              "<style scoped>\n",
              "    .dataframe tbody tr th:only-of-type {\n",
              "        vertical-align: middle;\n",
              "    }\n",
              "\n",
              "    .dataframe tbody tr th {\n",
              "        vertical-align: top;\n",
              "    }\n",
              "\n",
              "    .dataframe thead th {\n",
              "        text-align: right;\n",
              "    }\n",
              "</style>\n",
              "<table border=\"1\" class=\"dataframe\">\n",
              "  <thead>\n",
              "    <tr style=\"text-align: right;\">\n",
              "      <th></th>\n",
              "      <th>ID_Cliente</th>\n",
              "      <th>Grau_escolaridade</th>\n",
              "      <th>Rendimento_anual</th>\n",
              "    </tr>\n",
              "  </thead>\n",
              "  <tbody>\n",
              "    <tr>\n",
              "      <th>0</th>\n",
              "      <td>5008804</td>\n",
              "      <td>Ensino superior</td>\n",
              "      <td>427500.0</td>\n",
              "    </tr>\n",
              "    <tr>\n",
              "      <th>1</th>\n",
              "      <td>5008805</td>\n",
              "      <td>Ensino superior</td>\n",
              "      <td>427500.0</td>\n",
              "    </tr>\n",
              "    <tr>\n",
              "      <th>2</th>\n",
              "      <td>5008806</td>\n",
              "      <td>Ensino médio</td>\n",
              "      <td>112500.0</td>\n",
              "    </tr>\n",
              "    <tr>\n",
              "      <th>3</th>\n",
              "      <td>5008815</td>\n",
              "      <td>Ensino superior</td>\n",
              "      <td>270000.0</td>\n",
              "    </tr>\n",
              "    <tr>\n",
              "      <th>4</th>\n",
              "      <td>5112956</td>\n",
              "      <td>Ensino superior</td>\n",
              "      <td>270000.0</td>\n",
              "    </tr>\n",
              "    <tr>\n",
              "      <th>...</th>\n",
              "      <td>...</td>\n",
              "      <td>...</td>\n",
              "      <td>...</td>\n",
              "    </tr>\n",
              "    <tr>\n",
              "      <th>226054</th>\n",
              "      <td>6837905</td>\n",
              "      <td>Ensino médio</td>\n",
              "      <td>355050.0</td>\n",
              "    </tr>\n",
              "    <tr>\n",
              "      <th>226055</th>\n",
              "      <td>6837906</td>\n",
              "      <td>Ensino médio</td>\n",
              "      <td>355050.0</td>\n",
              "    </tr>\n",
              "    <tr>\n",
              "      <th>226056</th>\n",
              "      <td>6839936</td>\n",
              "      <td>Ensino médio</td>\n",
              "      <td>135000.0</td>\n",
              "    </tr>\n",
              "    <tr>\n",
              "      <th>226057</th>\n",
              "      <td>6840222</td>\n",
              "      <td>Ensino médio</td>\n",
              "      <td>103500.0</td>\n",
              "    </tr>\n",
              "    <tr>\n",
              "      <th>226058</th>\n",
              "      <td>6842885</td>\n",
              "      <td>Ensino médio</td>\n",
              "      <td>121500.0</td>\n",
              "    </tr>\n",
              "  </tbody>\n",
              "</table>\n",
              "<p>226059 rows × 3 columns</p>\n",
              "</div>"
            ],
            "text/plain": [
              "        ID_Cliente Grau_escolaridade  Rendimento_anual\n",
              "0          5008804   Ensino superior          427500.0\n",
              "1          5008805   Ensino superior          427500.0\n",
              "2          5008806      Ensino médio          112500.0\n",
              "3          5008815   Ensino superior          270000.0\n",
              "4          5112956   Ensino superior          270000.0\n",
              "...            ...               ...               ...\n",
              "226054     6837905      Ensino médio          355050.0\n",
              "226055     6837906      Ensino médio          355050.0\n",
              "226056     6839936      Ensino médio          135000.0\n",
              "226057     6840222      Ensino médio          103500.0\n",
              "226058     6842885      Ensino médio          121500.0\n",
              "\n",
              "[226059 rows x 3 columns]"
            ]
          },
          "execution_count": 46,
          "metadata": {},
          "output_type": "execute_result"
        }
      ],
      "source": [
        "pd.read_sql_table('empregados', engine, columns=['ID_Cliente', 'Grau_escolaridade',\n",
        "                                                 'Rendimento_anual'])"
      ]
    },
    {
      "cell_type": "markdown",
      "metadata": {
        "id": "qDDwJ6jj8dF5"
      },
      "source": [
        "###**Atualizando um banco de dados**"
      ]
    },
    {
      "cell_type": "code",
      "execution_count": 47,
      "metadata": {
        "id": "XLU1mbNGmPz3"
      },
      "outputs": [],
      "source": [
        "query = 'SELECT * FROM clientes'"
      ]
    },
    {
      "cell_type": "code",
      "execution_count": 48,
      "metadata": {
        "colab": {
          "base_uri": "https://localhost:8080/",
          "height": 599
        },
        "id": "byN7xG7AmUXe",
        "outputId": "ece251ef-184d-4e80-f8dc-feb9b32f401a"
      },
      "outputs": [
        {
          "data": {
            "text/html": [
              "<div>\n",
              "<style scoped>\n",
              "    .dataframe tbody tr th:only-of-type {\n",
              "        vertical-align: middle;\n",
              "    }\n",
              "\n",
              "    .dataframe tbody tr th {\n",
              "        vertical-align: top;\n",
              "    }\n",
              "\n",
              "    .dataframe thead th {\n",
              "        text-align: right;\n",
              "    }\n",
              "</style>\n",
              "<table border=\"1\" class=\"dataframe\">\n",
              "  <thead>\n",
              "    <tr style=\"text-align: right;\">\n",
              "      <th></th>\n",
              "      <th>ID_Cliente</th>\n",
              "      <th>Idade</th>\n",
              "      <th>Grau_escolaridade</th>\n",
              "      <th>Estado_civil</th>\n",
              "      <th>Tamanho_familia</th>\n",
              "      <th>Categoria_de_renda</th>\n",
              "      <th>Ocupacao</th>\n",
              "      <th>Anos_empregado</th>\n",
              "      <th>Rendimento_anual</th>\n",
              "      <th>Tem_carro</th>\n",
              "      <th>Moradia</th>\n",
              "    </tr>\n",
              "  </thead>\n",
              "  <tbody>\n",
              "    <tr>\n",
              "      <th>0</th>\n",
              "      <td>5008804</td>\n",
              "      <td>32</td>\n",
              "      <td>Ensino superior</td>\n",
              "      <td>União-estável</td>\n",
              "      <td>2</td>\n",
              "      <td>Empregado</td>\n",
              "      <td>Outro</td>\n",
              "      <td>12</td>\n",
              "      <td>427500.0</td>\n",
              "      <td>1</td>\n",
              "      <td>Apartamento alugado</td>\n",
              "    </tr>\n",
              "    <tr>\n",
              "      <th>1</th>\n",
              "      <td>5008805</td>\n",
              "      <td>32</td>\n",
              "      <td>Ensino superior</td>\n",
              "      <td>União-estável</td>\n",
              "      <td>2</td>\n",
              "      <td>Empregado</td>\n",
              "      <td>Outro</td>\n",
              "      <td>12</td>\n",
              "      <td>427500.0</td>\n",
              "      <td>1</td>\n",
              "      <td>Apartamento alugado</td>\n",
              "    </tr>\n",
              "    <tr>\n",
              "      <th>2</th>\n",
              "      <td>5008806</td>\n",
              "      <td>58</td>\n",
              "      <td>Ensino médio</td>\n",
              "      <td>Casado</td>\n",
              "      <td>2</td>\n",
              "      <td>Empregado</td>\n",
              "      <td>Segurança</td>\n",
              "      <td>3</td>\n",
              "      <td>112500.0</td>\n",
              "      <td>1</td>\n",
              "      <td>Casa/apartamento próprio</td>\n",
              "    </tr>\n",
              "    <tr>\n",
              "      <th>3</th>\n",
              "      <td>5008808</td>\n",
              "      <td>52</td>\n",
              "      <td>Ensino médio</td>\n",
              "      <td>Solteiro</td>\n",
              "      <td>1</td>\n",
              "      <td>Associado comercial</td>\n",
              "      <td>Vendas</td>\n",
              "      <td>8</td>\n",
              "      <td>270000.0</td>\n",
              "      <td>0</td>\n",
              "      <td>Casa/apartamento próprio</td>\n",
              "    </tr>\n",
              "    <tr>\n",
              "      <th>4</th>\n",
              "      <td>5008809</td>\n",
              "      <td>52</td>\n",
              "      <td>Ensino médio</td>\n",
              "      <td>Solteiro</td>\n",
              "      <td>1</td>\n",
              "      <td>Associado comercial</td>\n",
              "      <td>Vendas</td>\n",
              "      <td>8</td>\n",
              "      <td>270000.0</td>\n",
              "      <td>0</td>\n",
              "      <td>Casa/apartamento próprio</td>\n",
              "    </tr>\n",
              "    <tr>\n",
              "      <th>...</th>\n",
              "      <td>...</td>\n",
              "      <td>...</td>\n",
              "      <td>...</td>\n",
              "      <td>...</td>\n",
              "      <td>...</td>\n",
              "      <td>...</td>\n",
              "      <td>...</td>\n",
              "      <td>...</td>\n",
              "      <td>...</td>\n",
              "      <td>...</td>\n",
              "      <td>...</td>\n",
              "    </tr>\n",
              "    <tr>\n",
              "      <th>438458</th>\n",
              "      <td>6840104</td>\n",
              "      <td>62</td>\n",
              "      <td>Ensino médio</td>\n",
              "      <td>Divorciado</td>\n",
              "      <td>1</td>\n",
              "      <td>Pensionista</td>\n",
              "      <td>Outro</td>\n",
              "      <td>0</td>\n",
              "      <td>135000.0</td>\n",
              "      <td>0</td>\n",
              "      <td>Casa/apartamento próprio</td>\n",
              "    </tr>\n",
              "    <tr>\n",
              "      <th>438459</th>\n",
              "      <td>6840222</td>\n",
              "      <td>43</td>\n",
              "      <td>Ensino médio</td>\n",
              "      <td>Solteiro</td>\n",
              "      <td>1</td>\n",
              "      <td>Empregado</td>\n",
              "      <td>Construção Civil</td>\n",
              "      <td>8</td>\n",
              "      <td>103500.0</td>\n",
              "      <td>0</td>\n",
              "      <td>Casa/apartamento próprio</td>\n",
              "    </tr>\n",
              "    <tr>\n",
              "      <th>438460</th>\n",
              "      <td>6841878</td>\n",
              "      <td>22</td>\n",
              "      <td>Ensino superior</td>\n",
              "      <td>Solteiro</td>\n",
              "      <td>1</td>\n",
              "      <td>Associado comercial</td>\n",
              "      <td>Vendas</td>\n",
              "      <td>1</td>\n",
              "      <td>54000.0</td>\n",
              "      <td>0</td>\n",
              "      <td>Mora com os pais</td>\n",
              "    </tr>\n",
              "    <tr>\n",
              "      <th>438461</th>\n",
              "      <td>6842765</td>\n",
              "      <td>59</td>\n",
              "      <td>Ensino médio</td>\n",
              "      <td>Casado</td>\n",
              "      <td>2</td>\n",
              "      <td>Pensionista</td>\n",
              "      <td>Outro</td>\n",
              "      <td>0</td>\n",
              "      <td>72000.0</td>\n",
              "      <td>0</td>\n",
              "      <td>Casa/apartamento próprio</td>\n",
              "    </tr>\n",
              "    <tr>\n",
              "      <th>438462</th>\n",
              "      <td>6842885</td>\n",
              "      <td>51</td>\n",
              "      <td>Ensino médio</td>\n",
              "      <td>Casado</td>\n",
              "      <td>2</td>\n",
              "      <td>Empregado</td>\n",
              "      <td>Vendas</td>\n",
              "      <td>3</td>\n",
              "      <td>121500.0</td>\n",
              "      <td>0</td>\n",
              "      <td>Casa/apartamento próprio</td>\n",
              "    </tr>\n",
              "  </tbody>\n",
              "</table>\n",
              "<p>438463 rows × 11 columns</p>\n",
              "</div>"
            ],
            "text/plain": [
              "        ID_Cliente  Idade Grau_escolaridade   Estado_civil  Tamanho_familia  \\\n",
              "0          5008804     32   Ensino superior  União-estável                2   \n",
              "1          5008805     32   Ensino superior  União-estável                2   \n",
              "2          5008806     58      Ensino médio         Casado                2   \n",
              "3          5008808     52      Ensino médio       Solteiro                1   \n",
              "4          5008809     52      Ensino médio       Solteiro                1   \n",
              "...            ...    ...               ...            ...              ...   \n",
              "438458     6840104     62      Ensino médio     Divorciado                1   \n",
              "438459     6840222     43      Ensino médio       Solteiro                1   \n",
              "438460     6841878     22   Ensino superior       Solteiro                1   \n",
              "438461     6842765     59      Ensino médio         Casado                2   \n",
              "438462     6842885     51      Ensino médio         Casado                2   \n",
              "\n",
              "         Categoria_de_renda          Ocupacao  Anos_empregado  \\\n",
              "0                 Empregado             Outro              12   \n",
              "1                 Empregado             Outro              12   \n",
              "2                 Empregado         Segurança               3   \n",
              "3       Associado comercial            Vendas               8   \n",
              "4       Associado comercial            Vendas               8   \n",
              "...                     ...               ...             ...   \n",
              "438458          Pensionista             Outro               0   \n",
              "438459            Empregado  Construção Civil               8   \n",
              "438460  Associado comercial            Vendas               1   \n",
              "438461          Pensionista             Outro               0   \n",
              "438462            Empregado            Vendas               3   \n",
              "\n",
              "        Rendimento_anual  Tem_carro                   Moradia  \n",
              "0               427500.0          1       Apartamento alugado  \n",
              "1               427500.0          1       Apartamento alugado  \n",
              "2               112500.0          1  Casa/apartamento próprio  \n",
              "3               270000.0          0  Casa/apartamento próprio  \n",
              "4               270000.0          0  Casa/apartamento próprio  \n",
              "...                  ...        ...                       ...  \n",
              "438458          135000.0          0  Casa/apartamento próprio  \n",
              "438459          103500.0          0  Casa/apartamento próprio  \n",
              "438460           54000.0          0          Mora com os pais  \n",
              "438461           72000.0          0  Casa/apartamento próprio  \n",
              "438462          121500.0          0  Casa/apartamento próprio  \n",
              "\n",
              "[438463 rows x 11 columns]"
            ]
          },
          "execution_count": 48,
          "metadata": {},
          "output_type": "execute_result"
        }
      ],
      "source": [
        "pd.read_sql(query, engine)"
      ]
    },
    {
      "cell_type": "code",
      "execution_count": 49,
      "metadata": {
        "id": "k8Aq52h2zV6P"
      },
      "outputs": [
        {
          "ename": "ObjectNotExecutableError",
          "evalue": "Not an executable object: 'DELETE FROM clientes WHERE ID_Cliente=5008804'",
          "output_type": "error",
          "traceback": [
            "\u001b[1;31m---------------------------------------------------------------------------\u001b[0m",
            "\u001b[1;31mAttributeError\u001b[0m                            Traceback (most recent call last)",
            "File \u001b[1;32mc:\\Users\\orlan\\AppData\\Local\\Programs\\Python\\Python312\\Lib\\site-packages\\sqlalchemy\\engine\\base.py:1414\u001b[0m, in \u001b[0;36mConnection.execute\u001b[1;34m(self, statement, parameters, execution_options)\u001b[0m\n\u001b[0;32m   1413\u001b[0m \u001b[38;5;28;01mtry\u001b[39;00m:\n\u001b[1;32m-> 1414\u001b[0m     meth \u001b[38;5;241m=\u001b[39m \u001b[43mstatement\u001b[49m\u001b[38;5;241;43m.\u001b[39;49m\u001b[43m_execute_on_connection\u001b[49m\n\u001b[0;32m   1415\u001b[0m \u001b[38;5;28;01mexcept\u001b[39;00m \u001b[38;5;167;01mAttributeError\u001b[39;00m \u001b[38;5;28;01mas\u001b[39;00m err:\n",
            "\u001b[1;31mAttributeError\u001b[0m: 'str' object has no attribute '_execute_on_connection'",
            "\nThe above exception was the direct cause of the following exception:\n",
            "\u001b[1;31mObjectNotExecutableError\u001b[0m                  Traceback (most recent call last)",
            "Cell \u001b[1;32mIn[49], line 3\u001b[0m\n\u001b[0;32m      1\u001b[0m query \u001b[38;5;241m=\u001b[39m \u001b[38;5;124m'\u001b[39m\u001b[38;5;124mDELETE FROM clientes WHERE ID_Cliente=5008804\u001b[39m\u001b[38;5;124m'\u001b[39m\n\u001b[0;32m      2\u001b[0m \u001b[38;5;28;01mwith\u001b[39;00m engine\u001b[38;5;241m.\u001b[39mconnect() \u001b[38;5;28;01mas\u001b[39;00m conn:\n\u001b[1;32m----> 3\u001b[0m     \u001b[43mconn\u001b[49m\u001b[38;5;241;43m.\u001b[39;49m\u001b[43mexecute\u001b[49m\u001b[43m(\u001b[49m\u001b[43mquery\u001b[49m\u001b[43m)\u001b[49m\n",
            "File \u001b[1;32mc:\\Users\\orlan\\AppData\\Local\\Programs\\Python\\Python312\\Lib\\site-packages\\sqlalchemy\\engine\\base.py:1416\u001b[0m, in \u001b[0;36mConnection.execute\u001b[1;34m(self, statement, parameters, execution_options)\u001b[0m\n\u001b[0;32m   1414\u001b[0m     meth \u001b[38;5;241m=\u001b[39m statement\u001b[38;5;241m.\u001b[39m_execute_on_connection\n\u001b[0;32m   1415\u001b[0m \u001b[38;5;28;01mexcept\u001b[39;00m \u001b[38;5;167;01mAttributeError\u001b[39;00m \u001b[38;5;28;01mas\u001b[39;00m err:\n\u001b[1;32m-> 1416\u001b[0m     \u001b[38;5;28;01mraise\u001b[39;00m exc\u001b[38;5;241m.\u001b[39mObjectNotExecutableError(statement) \u001b[38;5;28;01mfrom\u001b[39;00m \u001b[38;5;21;01merr\u001b[39;00m\n\u001b[0;32m   1417\u001b[0m \u001b[38;5;28;01melse\u001b[39;00m:\n\u001b[0;32m   1418\u001b[0m     \u001b[38;5;28;01mreturn\u001b[39;00m meth(\n\u001b[0;32m   1419\u001b[0m         \u001b[38;5;28mself\u001b[39m,\n\u001b[0;32m   1420\u001b[0m         distilled_parameters,\n\u001b[0;32m   1421\u001b[0m         execution_options \u001b[38;5;129;01mor\u001b[39;00m NO_OPTIONS,\n\u001b[0;32m   1422\u001b[0m     )\n",
            "\u001b[1;31mObjectNotExecutableError\u001b[0m: Not an executable object: 'DELETE FROM clientes WHERE ID_Cliente=5008804'"
          ]
        }
      ],
      "source": [
        "query = 'DELETE FROM clientes WHERE ID_Cliente=5008804'\n",
        "with engine.connect() as conn:\n",
        "    conn.execute(query)"
      ]
    },
    {
      "cell_type": "code",
      "execution_count": null,
      "metadata": {
        "colab": {
          "base_uri": "https://localhost:8080/",
          "height": 599
        },
        "id": "iDDl294nficp",
        "outputId": "3c14db9c-0533-4b92-db06-264097e9a01a"
      },
      "outputs": [],
      "source": [
        "pd.read_sql_table('clientes', engine)"
      ]
    },
    {
      "cell_type": "code",
      "execution_count": 23,
      "metadata": {
        "id": "489fm2kr8v-z"
      },
      "outputs": [],
      "source": [
        "query = 'UPDATE clientes SET Grau_escolaridade=\"Ensino superior\" WHERE ID_Cliente=5008808'\n",
        "with engine.connect() as conn:\n",
        "    conn.execute(query)"
      ]
    },
    {
      "cell_type": "code",
      "execution_count": null,
      "metadata": {
        "colab": {
          "base_uri": "https://localhost:8080/",
          "height": 599
        },
        "id": "GPn3nuPS8xnf",
        "outputId": "43cfbba4-9a09-413d-a3c7-03006512ccb9"
      },
      "outputs": [],
      "source": [
        "pd.read_sql_table('clientes', engine)"
      ]
    }
  ],
  "metadata": {
    "colab": {
      "provenance": []
    },
    "kernelspec": {
      "display_name": "Python 3",
      "name": "python3"
    },
    "language_info": {
      "codemirror_mode": {
        "name": "ipython",
        "version": 3
      },
      "file_extension": ".py",
      "mimetype": "text/x-python",
      "name": "python",
      "nbconvert_exporter": "python",
      "pygments_lexer": "ipython3",
      "version": "3.12.4"
    }
  },
  "nbformat": 4,
  "nbformat_minor": 0
}
